{
 "cells": [
  {
   "cell_type": "markdown",
   "metadata": {
    "ExecuteTime": {
     "end_time": "2019-01-21T21:38:57.354093Z",
     "start_time": "2019-01-21T21:38:55.792105Z"
    }
   },
   "source": [
    "# Pre-process LINCS L1000 dataset\n",
    "\n",
    "**Alexandra Lee**\n",
    "\n",
    "**created October 2018**\n",
    "\n",
    "Pre-processing steps include:\n",
    "1. Select only landmark genes from LINCS database\n",
    "2. Normalize data\n",
    "3. Partition dataset into training and validation sets\n",
    "\n",
    "Note:  Using python 2 in order to support parsing cmap function"
   ]
  },
  {
   "cell_type": "code",
   "execution_count": null,
   "metadata": {},
   "outputs": [],
   "source": [
    "import pandas as pd\n",
    "import os\n",
    "import numpy as np\n",
    "from scipy.stats import variation\n",
    "from sklearn import preprocessing\n",
    "import seaborn as sns\n",
    "import matplotlib.pyplot as plt\n",
    "\n",
    "import sys\n",
    "from cmapPy.pandasGEXpress.parse import parse\n",
    "\n",
    "randomState = 123\n",
    "from numpy.random import seed\n",
    "seed(randomState)"
   ]
  },
  {
   "cell_type": "code",
   "execution_count": 4,
   "metadata": {
    "ExecuteTime": {
     "end_time": "2019-01-21T21:38:57.364335Z",
     "start_time": "2019-01-21T21:38:57.357706Z"
    }
   },
   "outputs": [],
   "source": [
    "# Output files\n",
    "train_file = \"/home/alexandra/Documents/Data/LINCS/train_model_input.txt.xz\"\n",
    "validation_file = \"/home/alexandra/Documents/Data/LINCS/validation_model_input.txt.xz\""
   ]
  },
  {
   "cell_type": "markdown",
   "metadata": {},
   "source": [
    "## About dataset\n",
    "Read in gene expression data (GCToo object with 3 embedded dataframes include data_df)\n",
    "Data downloaded from https://www.ncbi.nlm.nih.gov/geo/query/acc.cgi?acc=GSE92742\n",
    " \n",
    "cid = samples\n",
    "rid = genes\n",
    "values = normalized and imputed (based on landmark genes) gene expression --> log fold change compared against negative control\n",
    "\n",
    "Note:  Data is too large to be housed in repo"
   ]
  },
  {
   "cell_type": "code",
   "execution_count": 5,
   "metadata": {
    "ExecuteTime": {
     "end_time": "2019-01-21T21:45:04.967467Z",
     "start_time": "2019-01-21T21:38:57.368166Z"
    }
   },
   "outputs": [
    {
     "name": "stdout",
     "output_type": "stream",
     "text": [
      "CPU times: user 7.1 s, sys: 51.6 s, total: 58.7 s\n",
      "Wall time: 6min 7s\n"
     ]
    }
   ],
   "source": [
    "%%time\n",
    "data_file = \"/home/alexandra/Documents/Data/LINCS/GSE92742_Broad_LINCS_Level3_INF_mlr12k_n1319138x12328.gctx\"\n",
    "\n",
    "# Keep only landmark genes\n",
    "gene_info_file = os.path.join(\n",
    "    os.path.dirname(\n",
    "        os.getcwd()), \"metadata\",\"GSE92742_Broad_LINCS_gene_info.txt\")\n",
    "\n",
    "gene_info = pd.read_table(gene_info_file, dtype=str)\n",
    "landmark_gene_row_ids = gene_info[\"pr_gene_id\"][gene_info[\"pr_is_lm\"] == \"1\"]\n",
    "\n",
    "data = parse(data_file, rid = landmark_gene_row_ids)\n",
    "\n",
    "data_df = data.data_df.T"
   ]
  },
  {
   "cell_type": "code",
   "execution_count": 4,
   "metadata": {
    "ExecuteTime": {
     "end_time": "2019-01-15T16:13:44.694822Z",
     "start_time": "2019-01-15T16:13:44.687817Z"
    }
   },
   "outputs": [
    {
     "data": {
      "text/plain": [
       "(1319138, 978)"
      ]
     },
     "execution_count": 4,
     "metadata": {},
     "output_type": "execute_result"
    }
   ],
   "source": [
    "data_df.shape"
   ]
  },
  {
   "cell_type": "code",
   "execution_count": 6,
   "metadata": {
    "ExecuteTime": {
     "end_time": "2019-01-21T21:45:25.344641Z",
     "start_time": "2019-01-21T21:45:04.973309Z"
    }
   },
   "outputs": [
    {
     "data": {
      "text/html": [
       "<div>\n",
       "<style>\n",
       "    .dataframe thead tr:only-child th {\n",
       "        text-align: right;\n",
       "    }\n",
       "\n",
       "    .dataframe thead th {\n",
       "        text-align: left;\n",
       "    }\n",
       "\n",
       "    .dataframe tbody tr th {\n",
       "        vertical-align: top;\n",
       "    }\n",
       "</style>\n",
       "<table border=\"1\" class=\"dataframe\">\n",
       "  <thead>\n",
       "    <tr style=\"text-align: right;\">\n",
       "      <th>rid</th>\n",
       "      <th>5720</th>\n",
       "      <th>466</th>\n",
       "      <th>6009</th>\n",
       "      <th>2309</th>\n",
       "      <th>387</th>\n",
       "      <th>3553</th>\n",
       "      <th>427</th>\n",
       "      <th>5898</th>\n",
       "      <th>23365</th>\n",
       "      <th>6657</th>\n",
       "      <th>...</th>\n",
       "      <th>9738</th>\n",
       "      <th>6793</th>\n",
       "      <th>7358</th>\n",
       "      <th>58472</th>\n",
       "      <th>50865</th>\n",
       "      <th>23200</th>\n",
       "      <th>51293</th>\n",
       "      <th>10962</th>\n",
       "      <th>10153</th>\n",
       "      <th>874</th>\n",
       "    </tr>\n",
       "    <tr>\n",
       "      <th>cid</th>\n",
       "      <th></th>\n",
       "      <th></th>\n",
       "      <th></th>\n",
       "      <th></th>\n",
       "      <th></th>\n",
       "      <th></th>\n",
       "      <th></th>\n",
       "      <th></th>\n",
       "      <th></th>\n",
       "      <th></th>\n",
       "      <th></th>\n",
       "      <th></th>\n",
       "      <th></th>\n",
       "      <th></th>\n",
       "      <th></th>\n",
       "      <th></th>\n",
       "      <th></th>\n",
       "      <th></th>\n",
       "      <th></th>\n",
       "      <th></th>\n",
       "      <th></th>\n",
       "    </tr>\n",
       "  </thead>\n",
       "  <tbody>\n",
       "    <tr>\n",
       "      <th>CPC005_A375_6H_X1_B3_DUO52HI53LO:K06</th>\n",
       "      <td>0.736540</td>\n",
       "      <td>0.544533</td>\n",
       "      <td>0.852929</td>\n",
       "      <td>0.363640</td>\n",
       "      <td>0.561647</td>\n",
       "      <td>0.313570</td>\n",
       "      <td>0.385488</td>\n",
       "      <td>0.612467</td>\n",
       "      <td>0.343652</td>\n",
       "      <td>0.250845</td>\n",
       "      <td>...</td>\n",
       "      <td>0.453477</td>\n",
       "      <td>0.400785</td>\n",
       "      <td>0.531635</td>\n",
       "      <td>0.299071</td>\n",
       "      <td>0.433057</td>\n",
       "      <td>0.531077</td>\n",
       "      <td>0.736812</td>\n",
       "      <td>0.761088</td>\n",
       "      <td>0.624022</td>\n",
       "      <td>0.412310</td>\n",
       "    </tr>\n",
       "    <tr>\n",
       "      <th>CPC005_A375_6H_X2_B3_DUO52HI53LO:K06</th>\n",
       "      <td>0.707430</td>\n",
       "      <td>0.519123</td>\n",
       "      <td>0.802998</td>\n",
       "      <td>0.421900</td>\n",
       "      <td>0.491247</td>\n",
       "      <td>0.343975</td>\n",
       "      <td>0.359491</td>\n",
       "      <td>0.617536</td>\n",
       "      <td>0.334867</td>\n",
       "      <td>0.330806</td>\n",
       "      <td>...</td>\n",
       "      <td>0.433409</td>\n",
       "      <td>0.396231</td>\n",
       "      <td>0.549793</td>\n",
       "      <td>0.312744</td>\n",
       "      <td>0.469197</td>\n",
       "      <td>0.573592</td>\n",
       "      <td>0.776966</td>\n",
       "      <td>0.709637</td>\n",
       "      <td>0.661218</td>\n",
       "      <td>0.533310</td>\n",
       "    </tr>\n",
       "    <tr>\n",
       "      <th>CPC005_A375_6H_X3_B3_DUO52HI53LO:K06</th>\n",
       "      <td>0.712130</td>\n",
       "      <td>0.516403</td>\n",
       "      <td>0.822841</td>\n",
       "      <td>0.404537</td>\n",
       "      <td>0.540393</td>\n",
       "      <td>0.296886</td>\n",
       "      <td>0.429730</td>\n",
       "      <td>0.588535</td>\n",
       "      <td>0.384498</td>\n",
       "      <td>0.258588</td>\n",
       "      <td>...</td>\n",
       "      <td>0.414654</td>\n",
       "      <td>0.426433</td>\n",
       "      <td>0.533961</td>\n",
       "      <td>0.308757</td>\n",
       "      <td>0.435564</td>\n",
       "      <td>0.508652</td>\n",
       "      <td>0.759025</td>\n",
       "      <td>0.731127</td>\n",
       "      <td>0.647835</td>\n",
       "      <td>0.485909</td>\n",
       "    </tr>\n",
       "    <tr>\n",
       "      <th>CPC005_A375_6H_X1_B3_DUO52HI53LO:C19</th>\n",
       "      <td>0.707830</td>\n",
       "      <td>0.548493</td>\n",
       "      <td>0.847084</td>\n",
       "      <td>0.359540</td>\n",
       "      <td>0.582520</td>\n",
       "      <td>0.343702</td>\n",
       "      <td>0.358237</td>\n",
       "      <td>0.612997</td>\n",
       "      <td>0.330637</td>\n",
       "      <td>0.269134</td>\n",
       "      <td>...</td>\n",
       "      <td>0.422994</td>\n",
       "      <td>0.428953</td>\n",
       "      <td>0.473934</td>\n",
       "      <td>0.295685</td>\n",
       "      <td>0.442730</td>\n",
       "      <td>0.483017</td>\n",
       "      <td>0.716187</td>\n",
       "      <td>0.708171</td>\n",
       "      <td>0.647835</td>\n",
       "      <td>0.386021</td>\n",
       "    </tr>\n",
       "    <tr>\n",
       "      <th>CPC005_A375_6H_X2_B3_DUO52HI53LO:C19</th>\n",
       "      <td>0.687703</td>\n",
       "      <td>0.499747</td>\n",
       "      <td>0.811237</td>\n",
       "      <td>0.424813</td>\n",
       "      <td>0.461340</td>\n",
       "      <td>0.363575</td>\n",
       "      <td>0.343226</td>\n",
       "      <td>0.629484</td>\n",
       "      <td>0.286045</td>\n",
       "      <td>0.423899</td>\n",
       "      <td>...</td>\n",
       "      <td>0.351104</td>\n",
       "      <td>0.434434</td>\n",
       "      <td>0.584571</td>\n",
       "      <td>0.322470</td>\n",
       "      <td>0.657456</td>\n",
       "      <td>0.597484</td>\n",
       "      <td>0.745323</td>\n",
       "      <td>0.672260</td>\n",
       "      <td>0.655874</td>\n",
       "      <td>0.483393</td>\n",
       "    </tr>\n",
       "  </tbody>\n",
       "</table>\n",
       "<p>5 rows × 978 columns</p>\n",
       "</div>"
      ],
      "text/plain": [
       "rid                                       5720       466      6009      2309  \\\n",
       "cid                                                                            \n",
       "CPC005_A375_6H_X1_B3_DUO52HI53LO:K06  0.736540  0.544533  0.852929  0.363640   \n",
       "CPC005_A375_6H_X2_B3_DUO52HI53LO:K06  0.707430  0.519123  0.802998  0.421900   \n",
       "CPC005_A375_6H_X3_B3_DUO52HI53LO:K06  0.712130  0.516403  0.822841  0.404537   \n",
       "CPC005_A375_6H_X1_B3_DUO52HI53LO:C19  0.707830  0.548493  0.847084  0.359540   \n",
       "CPC005_A375_6H_X2_B3_DUO52HI53LO:C19  0.687703  0.499747  0.811237  0.424813   \n",
       "\n",
       "rid                                        387      3553       427      5898  \\\n",
       "cid                                                                            \n",
       "CPC005_A375_6H_X1_B3_DUO52HI53LO:K06  0.561647  0.313570  0.385488  0.612467   \n",
       "CPC005_A375_6H_X2_B3_DUO52HI53LO:K06  0.491247  0.343975  0.359491  0.617536   \n",
       "CPC005_A375_6H_X3_B3_DUO52HI53LO:K06  0.540393  0.296886  0.429730  0.588535   \n",
       "CPC005_A375_6H_X1_B3_DUO52HI53LO:C19  0.582520  0.343702  0.358237  0.612997   \n",
       "CPC005_A375_6H_X2_B3_DUO52HI53LO:C19  0.461340  0.363575  0.343226  0.629484   \n",
       "\n",
       "rid                                      23365      6657    ...         9738  \\\n",
       "cid                                                         ...                \n",
       "CPC005_A375_6H_X1_B3_DUO52HI53LO:K06  0.343652  0.250845    ...     0.453477   \n",
       "CPC005_A375_6H_X2_B3_DUO52HI53LO:K06  0.334867  0.330806    ...     0.433409   \n",
       "CPC005_A375_6H_X3_B3_DUO52HI53LO:K06  0.384498  0.258588    ...     0.414654   \n",
       "CPC005_A375_6H_X1_B3_DUO52HI53LO:C19  0.330637  0.269134    ...     0.422994   \n",
       "CPC005_A375_6H_X2_B3_DUO52HI53LO:C19  0.286045  0.423899    ...     0.351104   \n",
       "\n",
       "rid                                       6793      7358     58472     50865  \\\n",
       "cid                                                                            \n",
       "CPC005_A375_6H_X1_B3_DUO52HI53LO:K06  0.400785  0.531635  0.299071  0.433057   \n",
       "CPC005_A375_6H_X2_B3_DUO52HI53LO:K06  0.396231  0.549793  0.312744  0.469197   \n",
       "CPC005_A375_6H_X3_B3_DUO52HI53LO:K06  0.426433  0.533961  0.308757  0.435564   \n",
       "CPC005_A375_6H_X1_B3_DUO52HI53LO:C19  0.428953  0.473934  0.295685  0.442730   \n",
       "CPC005_A375_6H_X2_B3_DUO52HI53LO:C19  0.434434  0.584571  0.322470  0.657456   \n",
       "\n",
       "rid                                      23200     51293     10962     10153  \\\n",
       "cid                                                                            \n",
       "CPC005_A375_6H_X1_B3_DUO52HI53LO:K06  0.531077  0.736812  0.761088  0.624022   \n",
       "CPC005_A375_6H_X2_B3_DUO52HI53LO:K06  0.573592  0.776966  0.709637  0.661218   \n",
       "CPC005_A375_6H_X3_B3_DUO52HI53LO:K06  0.508652  0.759025  0.731127  0.647835   \n",
       "CPC005_A375_6H_X1_B3_DUO52HI53LO:C19  0.483017  0.716187  0.708171  0.647835   \n",
       "CPC005_A375_6H_X2_B3_DUO52HI53LO:C19  0.597484  0.745323  0.672260  0.655874   \n",
       "\n",
       "rid                                        874  \n",
       "cid                                             \n",
       "CPC005_A375_6H_X1_B3_DUO52HI53LO:K06  0.412310  \n",
       "CPC005_A375_6H_X2_B3_DUO52HI53LO:K06  0.533310  \n",
       "CPC005_A375_6H_X3_B3_DUO52HI53LO:K06  0.485909  \n",
       "CPC005_A375_6H_X1_B3_DUO52HI53LO:C19  0.386021  \n",
       "CPC005_A375_6H_X2_B3_DUO52HI53LO:C19  0.483393  \n",
       "\n",
       "[5 rows x 978 columns]"
      ]
     },
     "execution_count": 6,
     "metadata": {},
     "output_type": "execute_result"
    }
   ],
   "source": [
    "# Normalization\n",
    "# scale data to range (0,1) per gene\n",
    "data_scaled_df = (\n",
    "    preprocessing\n",
    "    .MinMaxScaler()\n",
    "    .fit_transform(data_df)\n",
    ")\n",
    "\n",
    "data_scaled_df = pd.DataFrame(data_scaled_df,\n",
    "                                columns=data_df.columns,\n",
    "                                index=data_df.index)\n",
    "del data_df\n",
    "\n",
    "data_scaled_df.head(5)"
   ]
  },
  {
   "cell_type": "code",
   "execution_count": 16,
   "metadata": {
    "ExecuteTime": {
     "end_time": "2019-01-21T21:47:31.737380Z",
     "start_time": "2019-01-21T21:47:31.577000Z"
    }
   },
   "outputs": [
    {
     "data": {
      "text/plain": [
       "<matplotlib.axes._subplots.AxesSubplot at 0x7ffac02a8310>"
      ]
     },
     "execution_count": 16,
     "metadata": {},
     "output_type": "execute_result"
    },
    {
     "data": {
      "image/png": "[encoded data removed]",
      "text/plain": [
       "<matplotlib.figure.Figure at 0x7ffac0239ad0>"
      ]
     },
     "metadata": {},
     "output_type": "display_data"
    }
   ],
   "source": [
    "sns.distplot(data_scaled_df.iloc[5])"
   ]
  },
  {
   "cell_type": "code",
   "execution_count": 6,
   "metadata": {
    "ExecuteTime": {
     "end_time": "2019-01-15T16:14:08.169579Z",
     "start_time": "2019-01-15T16:14:04.450266Z"
    }
   },
   "outputs": [
    {
     "name": "stdout",
     "output_type": "stream",
     "text": [
      "(1319, 978)\n",
      "(1317819, 978)\n"
     ]
    }
   ],
   "source": [
    "# Split dataset into training and validation sets\n",
    "validation_set_percent = 0.001\n",
    "validation_df = data_scaled_df.sample(frac=validation_set_percent, random_state=randomState)\n",
    "train_df = data_scaled_df.drop(validation_df.index)\n",
    "\n",
    "print(validation_df.shape)\n",
    "print(train_df.shape)"
   ]
  },
  {
   "cell_type": "code",
   "execution_count": 7,
   "metadata": {
    "ExecuteTime": {
     "end_time": "2019-01-15T16:14:08.177556Z",
     "start_time": "2019-01-15T16:14:08.173446Z"
    }
   },
   "outputs": [],
   "source": [
    "# Output\n",
    "train_df.to_csv(train_file, sep='\\t', compression='xz')\n",
    "validation_df.to_csv(validation_file, sep='\\t', compression='xz')"
   ]
  }
 ],
 "metadata": {
  "kernelspec": {
   "display_name": "Python [conda env:my_cmapPy_env]",
   "language": "python",
   "name": "conda-env-my_cmapPy_env-py"
  },
  "language_info": {
   "codemirror_mode": {
    "name": "ipython",
    "version": 2
   },
   "file_extension": ".py",
   "mimetype": "text/x-python",
   "name": "python",
   "nbconvert_exporter": "python",
   "pygments_lexer": "ipython2",
   "version": "2.7.11"
  }
 },
 "nbformat": 4,
 "nbformat_minor": 2
}
