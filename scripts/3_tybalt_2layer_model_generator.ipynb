{
 "cells": [
  {
   "cell_type": "code",
   "execution_count": 1,
   "metadata": {
    "ExecuteTime": {
     "end_time": "2019-02-07T22:11:19.171859Z",
     "start_time": "2019-02-07T22:11:18.258591Z"
    }
   },
   "outputs": [
    {
     "name": "stderr",
     "output_type": "stream",
     "text": [
      "Using TensorFlow backend.\n"
     ]
    }
   ],
   "source": [
    "%load_ext autoreload\n",
    "%autoreload 2\n",
    "# -----------------------------------------------------------------------------------------------------------------------\n",
    "# By Alexandra Lee\n",
    "# (created December 2018) \n",
    "#\n",
    "# Encode Pseudomonas gene expression data into low dimensional latent space using \n",
    "# Tybalt with 2-hidden layers\n",
    "# \n",
    "# Note: Need to use python 3 to support '*' syntax change\n",
    "# --------------------------------------------------------------------------------------------------------------------\n",
    "import os\n",
    "import argparse\n",
    "import pandas as pd\n",
    "import matplotlib.pyplot as plt\n",
    "import tensorflow as tf\n",
    "import pickle\n",
    "from functions.my_classes import DataGenerator\n",
    "from functions.helper_ae import sampling_maker, CustomVariationalLayer, WarmUpCallback"
   ]
  },
  {
   "cell_type": "code",
   "execution_count": 2,
   "metadata": {
    "ExecuteTime": {
     "end_time": "2019-02-07T22:11:19.193522Z",
     "start_time": "2019-02-07T22:11:19.173517Z"
    }
   },
   "outputs": [],
   "source": [
    "# To ensure reproducibility using Keras during development\n",
    "# https://keras.io/getting-started/faq/#how-can-i-obtain-reproducible-results-using-keras-during-development\n",
    "import numpy as np\n",
    "import random as rn\n",
    "\n",
    "# The below is necessary in Python 3.2.3 onwards to\n",
    "# have reproducible behavior for certain hash-based operations.\n",
    "# See these references for further details:\n",
    "# https://docs.python.org/3.4/using/cmdline.html#envvar-PYTHONHASHSEED\n",
    "# https://github.com/keras-team/keras/issues/2280#issuecomment-306959926\n",
    "randomState = 123\n",
    "import os\n",
    "os.environ['PYTHONHASHSEED'] = '0'\n",
    "\n",
    "# The below is necessary for starting Numpy generated random numbers\n",
    "# in a well-defined initial state.\n",
    "\n",
    "np.random.seed(42)\n",
    "\n",
    "# The below is necessary for starting core Python generated random numbers\n",
    "# in a well-defined state.\n",
    "\n",
    "rn.seed(12345)\n",
    "\n",
    "# Force TensorFlow to use single thread.\n",
    "# Multiple threads are a potential source of\n",
    "# non-reproducible results.\n",
    "# For further details, see: https://stackoverflow.com/questions/42022950/which-seeds-have-to-be-set-where-to-realize-100-reproducibility-of-training-res\n",
    "\n",
    "session_conf = tf.ConfigProto(intra_op_parallelism_threads=1, inter_op_parallelism_threads=1)\n",
    "\n",
    "from keras import backend as K\n",
    "\n",
    "# The below tf.set_random_seed() will make random number generation\n",
    "# in the TensorFlow backend have a well-defined initial state.\n",
    "# For further details, see: https://www.tensorflow.org/api_docs/python/tf/set_random_seed\n",
    "\n",
    "tf.set_random_seed(1234)\n",
    "\n",
    "sess = tf.Session(graph=tf.get_default_graph(), config=session_conf)\n",
    "K.set_session(sess)\n",
    "\n",
    "import keras\n",
    "from keras.layers import Input, Dense, Lambda, Layer, Activation\n",
    "from keras.layers.normalization import BatchNormalization\n",
    "from keras.models import Model, Sequential\n",
    "from keras import metrics, optimizers\n",
    "from keras.callbacks import Callback"
   ]
  },
  {
   "cell_type": "code",
   "execution_count": 3,
   "metadata": {
    "ExecuteTime": {
     "end_time": "2019-02-07T22:11:19.235473Z",
     "start_time": "2019-02-07T22:11:19.195497Z"
    }
   },
   "outputs": [
    {
     "name": "stdout",
     "output_type": "stream",
     "text": [
      "10553\n",
      "2638\n"
     ]
    }
   ],
   "source": [
    "# --------------------------------------------------------------------------------------------------------------------\n",
    "# Initialize hyper parameters\n",
    "#\n",
    "# learning rate: \n",
    "# batch size: Total number of training examples present in a single batch\n",
    "#             Iterations is the number of batches needed to complete one epoch\n",
    "# epochs: One Epoch is when an ENTIRE dataset is passed forward and backward through the neural network only ONCE\n",
    "# kappa: warmup\n",
    "# original dim: dimensions of the raw data\n",
    "# latent dim: dimensiosn of the latent space (fixed by the user)\n",
    "#   Note: intrinsic latent space dimension unknown\n",
    "# epsilon std: \n",
    "# beta: Threshold value for ReLU?\n",
    "# --------------------------------------------------------------------------------------------------------------------\n",
    "\n",
    "learning_rate = 0.00001\n",
    "epochs = 100\n",
    "kappa = 0.01\n",
    "\n",
    "intermediate_dim = 200\n",
    "latent_dim = 100\n",
    "epsilon_std = 1.0\n",
    "beta = K.variable(0)\n",
    "\n",
    "chunk_size = 1000\n",
    "\n",
    "subsample_dataset = \"subsample_13K_validation_0.2\"\n",
    "\n",
    "# Get dimensions of datasets\n",
    "train_dim_file =  os.path.join(os.path.dirname(os.getcwd()), \"metadata\", subsample_dataset, \"train_tune_dim.pickle\")\n",
    "val_dim_file =  os.path.join(os.path.dirname(os.getcwd()), \"metadata\", subsample_dataset, \"validation_tune_dim.pickle\")\n",
    "\n",
    "with open(train_dim_file, 'rb') as f:\n",
    "    num_train_samples, num_genes = pickle.load(f)\n",
    "with open(val_dim_file, 'rb') as f:\n",
    "    num_val_samples, num_genes = pickle.load(f)\n",
    "\n",
    "original_dim_model = num_genes\n",
    "print(num_train_samples)#num_samples_train = 1319122\n",
    "print(num_val_samples)#num_samples_val = 1319"
   ]
  },
  {
   "cell_type": "code",
   "execution_count": 4,
   "metadata": {
    "ExecuteTime": {
     "end_time": "2019-02-07T22:11:19.275833Z",
     "start_time": "2019-02-07T22:11:19.237663Z"
    }
   },
   "outputs": [],
   "source": [
    "# Load gene expression data using generator \n",
    "train_file =  \"/home/alexandra/Documents/Data/LINCS_tuning/\"+subsample_dataset+\"/train_model_input.txt.xz\"\n",
    "validation_file = \"/home/alexandra/Documents/Data/LINCS_tuning/\"+subsample_dataset+\"/validation_model_input.txt.xz\"\n",
    "\n",
    "training_generator = DataGenerator(train_file, chunk_size, num_train_samples)\n",
    "validation_generator = DataGenerator(validation_file, chunk_size, num_val_samples)"
   ]
  },
  {
   "cell_type": "code",
   "execution_count": 5,
   "metadata": {
    "ExecuteTime": {
     "end_time": "2019-02-07T22:11:19.292248Z",
     "start_time": "2019-02-07T22:11:19.277144Z"
    }
   },
   "outputs": [],
   "source": [
    "# Output files\n",
    "stat_file =  os.path.join(os.path.dirname(os.getcwd()), \"stats\", \"tybalt_2layer_{}latent_stats.tsv\".format(latent_dim))\n",
    "hist_plot_file = os.path.join(os.path.dirname(os.getcwd()), \"stats\", \"tybalt_2layer_{}latent_hist.png\".format(latent_dim))\n",
    "\n",
    "encoded_file = os.path.join(os.path.dirname(os.getcwd()), \"encoded\", \"train_input_2layer_{}latent_encoded.txt\".format(latent_dim))\n",
    "\n",
    "model_encoder_file = os.path.join(os.path.dirname(os.getcwd()), \"models\", \"tybalt_2layer_{}latent_encoder_model.h5\".format(latent_dim))\n",
    "weights_encoder_file = os.path.join(os.path.dirname(os.getcwd()), \"models\", \"tybalt_2layer_{}latent_encoder_weights.h5\".format(latent_dim))\n",
    "model_decoder_file = os.path.join(os.path.dirname(os.getcwd()), \"models\", \"tybalt_2layer_{}latent_decoder_model.h5\".format(latent_dim))\n",
    "weights_decoder_file = os.path.join(os.path.dirname(os.getcwd()), \"models\", \"tybalt_2layer_{}latent_decoder_weights.h5\".format(latent_dim))"
   ]
  },
  {
   "cell_type": "code",
   "execution_count": 6,
   "metadata": {
    "ExecuteTime": {
     "end_time": "2019-02-07T22:11:19.581521Z",
     "start_time": "2019-02-07T22:11:19.293528Z"
    }
   },
   "outputs": [
    {
     "name": "stderr",
     "output_type": "stream",
     "text": [
      "/home/alexandra/anaconda3/envs/Pa/lib/python3.5/site-packages/ipykernel/__main__.py:81: UserWarning: Output \"custom_variational_layer_1\" missing from loss dictionary. We assume this was done on purpose, and we will not be expecting any data to be passed to \"custom_variational_layer_1\" during training.\n"
     ]
    }
   ],
   "source": [
    "# Architecture of VAE\n",
    "dim_file =  os.path.join(os.path.dirname(os.getcwd()), \"metadata\", subsample_dataset, \"validation_tune_dim.pickle\")\n",
    "\n",
    "with open(dim_file, 'rb') as f:\n",
    "    num_samples, num_genes = pickle.load(f)\n",
    "\n",
    "original_dim = num_genes\n",
    "rnaseq_input = Input(shape=(original_dim, ))\n",
    "\n",
    "# Encoder\n",
    "\n",
    "# Input layer is compressed into a mean and log variance vector of size\n",
    "# `latent_dim`. Each layer is initialized with glorot uniform weights and each\n",
    "# step (dense connections, batch norm,and relu activation) are funneled\n",
    "# separately\n",
    "# Each vector of length `latent_dim` are connected to the rnaseq input tensor\n",
    "\n",
    "# \"z_mean_dense_linear\" is the encoded representation of the input\n",
    "#    Take as input arrays of shape (*, original dim) and output arrays of shape (*, latent dim)\n",
    "#    Combine input from previous layer using linear summ\n",
    "# Normalize the activations (combined weighted nodes of the previous layer)\n",
    "#   Transformation that maintains the mean activation close to 0 and the activation standard deviation close to 1.\n",
    "# Apply ReLU activation function to combine weighted nodes from previous layer\n",
    "#   relu = threshold cutoff (cutoff value will be learned)\n",
    "#   ReLU function filters noise\n",
    "\n",
    "# X is encoded using Q(z|X) to yield mu(X), sigma(X) that describes latent space distribution\n",
    "hidden_dense_linear = Dense(intermediate_dim, kernel_initializer='glorot_uniform')(rnaseq_input)\n",
    "hidden_dense_batchnorm = BatchNormalization()(hidden_dense_linear)\n",
    "hidden_encoded = Activation('relu')(hidden_dense_batchnorm)\n",
    "\n",
    "# Note:\n",
    "# Normalize and relu filter at each layer adds non-linear component (relu is non-linear function)\n",
    "# If architecture is layer-layer-normalization-relu then the computation is still linear\n",
    "# Add additional layers in triplicate\n",
    "z_mean_dense_linear = Dense(latent_dim, kernel_initializer='glorot_uniform')(hidden_encoded)\n",
    "z_mean_dense_batchnorm = BatchNormalization()(z_mean_dense_linear)\n",
    "z_mean_encoded = Activation('relu')(z_mean_dense_batchnorm)\n",
    "\n",
    "z_log_var_dense_linear = Dense(latent_dim, kernel_initializer='glorot_uniform')(rnaseq_input)\n",
    "z_log_var_dense_batchnorm = BatchNormalization()(z_log_var_dense_linear)\n",
    "z_log_var_encoded = Activation('relu')(z_log_var_dense_batchnorm)\n",
    "\n",
    "# Customized layer\n",
    "# Returns the encoded and randomly sampled z vector\n",
    "# Takes two keras layers as input to the custom sampling function layer with a\n",
    "# latent_dim` output\n",
    "#\n",
    "# sampling():\n",
    "# randomly sample similar points z from the latent normal distribution that is assumed to generate the data,\n",
    "# via z = z_mean + exp(z_log_sigma) * epsilon, where epsilon is a random normal tensor\n",
    "# z ~ Q(z|X)\n",
    "# Note: there is a trick to reparameterize to standard normal distribution so that the space is differentiable and \n",
    "# therefore gradient descent can be used\n",
    "#\n",
    "# Returns the encoded and randomly sampled z vector\n",
    "# Takes two keras layers as input to the custom sampling function layer with a\n",
    "# latent_dim` output\n",
    "#z = Lambda(sampling,\n",
    "#           output_shape=(latent_dim, ))([z_mean_encoded, z_log_var_encoded])\n",
    "z = Lambda(sampling_maker(epsilon_std),\n",
    "               output_shape=(latent_dim, ))([z_mean_encoded, z_log_var_encoded])\n",
    "\n",
    "# Decoder\n",
    "\n",
    "# The decoding layer is much simpler with a single layer glorot uniform\n",
    "# initialized and sigmoid activation\n",
    "# Reconstruct P(X|z)\n",
    "decoder_model = Sequential()\n",
    "decoder_model.add(Dense(intermediate_dim, activation='relu', input_dim=latent_dim))\n",
    "decoder_model.add(Dense(original_dim, activation='sigmoid'))\n",
    "rnaseq_reconstruct = decoder_model(z)\n",
    "\n",
    "\n",
    "# Connections\n",
    "# fully-connected network\n",
    "adam = optimizers.Adam(lr=learning_rate)\n",
    "vae_layer = CustomVariationalLayer(original_dim, z_log_var_encoded, z_mean_encoded, beta)([\n",
    "        rnaseq_input, rnaseq_reconstruct])\n",
    "vae = Model(rnaseq_input, vae_layer)\n",
    "vae.compile(optimizer=adam, loss=None, loss_weights=[beta])"
   ]
  },
  {
   "cell_type": "code",
   "execution_count": 7,
   "metadata": {
    "ExecuteTime": {
     "end_time": "2019-02-07T22:21:15.999784Z",
     "start_time": "2019-02-07T22:11:19.583111Z"
    },
    "scrolled": true
   },
   "outputs": [
    {
     "name": "stdout",
     "output_type": "stream",
     "text": [
      "Epoch 1/100\n",
      "10/10 [==============================] - 6s 637ms/step - loss: 708.0984 - val_loss: 706.5732\n",
      "Epoch 2/100\n",
      "10/10 [==============================] - 6s 584ms/step - loss: 706.6116 - val_loss: 705.1453\n",
      "Epoch 3/100\n",
      "10/10 [==============================] - 6s 588ms/step - loss: 705.2828 - val_loss: 703.3218\n",
      "Epoch 4/100\n",
      "10/10 [==============================] - 6s 590ms/step - loss: 703.9293 - val_loss: 702.1812\n",
      "Epoch 5/100\n",
      "10/10 [==============================] - 6s 585ms/step - loss: 702.6951 - val_loss: 701.0727\n",
      "Epoch 6/100\n",
      "10/10 [==============================] - 6s 590ms/step - loss: 701.5259 - val_loss: 699.5498\n",
      "Epoch 7/100\n",
      "10/10 [==============================] - 6s 603ms/step - loss: 700.4891 - val_loss: 698.8592\n",
      "Epoch 8/100\n",
      "10/10 [==============================] - 6s 591ms/step - loss: 699.1730 - val_loss: 697.8353\n",
      "Epoch 9/100\n",
      "10/10 [==============================] - 6s 611ms/step - loss: 698.0272 - val_loss: 696.8485\n",
      "Epoch 10/100\n",
      "10/10 [==============================] - 6s 604ms/step - loss: 696.9417 - val_loss: 696.0415\n",
      "Epoch 11/100\n",
      "10/10 [==============================] - 6s 573ms/step - loss: 696.0922 - val_loss: 695.0580\n",
      "Epoch 12/100\n",
      "10/10 [==============================] - 6s 577ms/step - loss: 695.1367 - val_loss: 693.9428\n",
      "Epoch 13/100\n",
      "10/10 [==============================] - 6s 598ms/step - loss: 694.2454 - val_loss: 693.2152\n",
      "Epoch 14/100\n",
      "10/10 [==============================] - 6s 592ms/step - loss: 693.1971 - val_loss: 692.5445\n",
      "Epoch 15/100\n",
      "10/10 [==============================] - 6s 569ms/step - loss: 692.2215 - val_loss: 691.6667\n",
      "Epoch 16/100\n",
      "10/10 [==============================] - 6s 571ms/step - loss: 691.4298 - val_loss: 690.9290\n",
      "Epoch 17/100\n",
      "10/10 [==============================] - 6s 566ms/step - loss: 690.4860 - val_loss: 690.4541\n",
      "Epoch 18/100\n",
      "10/10 [==============================] - 6s 566ms/step - loss: 689.7418 - val_loss: 689.4465\n",
      "Epoch 19/100\n",
      "10/10 [==============================] - 6s 562ms/step - loss: 688.9056 - val_loss: 688.9678\n",
      "Epoch 20/100\n",
      "10/10 [==============================] - 6s 561ms/step - loss: 688.1835 - val_loss: 688.1697\n",
      "Epoch 21/100\n",
      "10/10 [==============================] - 6s 561ms/step - loss: 687.3904 - val_loss: 687.4680\n",
      "Epoch 22/100\n",
      "10/10 [==============================] - 6s 563ms/step - loss: 686.6562 - val_loss: 687.0128\n",
      "Epoch 23/100\n",
      "10/10 [==============================] - 6s 563ms/step - loss: 685.9708 - val_loss: 686.2328\n",
      "Epoch 24/100\n",
      "10/10 [==============================] - 6s 565ms/step - loss: 685.2948 - val_loss: 685.7292\n",
      "Epoch 25/100\n",
      "10/10 [==============================] - 6s 573ms/step - loss: 684.5289 - val_loss: 685.3256\n",
      "Epoch 26/100\n",
      "10/10 [==============================] - 6s 572ms/step - loss: 683.7939 - val_loss: 684.5652\n",
      "Epoch 27/100\n",
      "10/10 [==============================] - 6s 566ms/step - loss: 683.3818 - val_loss: 684.2766\n",
      "Epoch 28/100\n",
      "10/10 [==============================] - 6s 567ms/step - loss: 682.7172 - val_loss: 683.2700\n",
      "Epoch 29/100\n",
      "10/10 [==============================] - 6s 602ms/step - loss: 682.0925 - val_loss: 683.1152\n",
      "Epoch 30/100\n",
      "10/10 [==============================] - 6s 580ms/step - loss: 681.4896 - val_loss: 682.3574\n",
      "Epoch 31/100\n",
      "10/10 [==============================] - 6s 566ms/step - loss: 680.8554 - val_loss: 681.8930\n",
      "Epoch 32/100\n",
      "10/10 [==============================] - 6s 598ms/step - loss: 680.3076 - val_loss: 681.3488\n",
      "Epoch 33/100\n",
      "10/10 [==============================] - 6s 599ms/step - loss: 679.7382 - val_loss: 680.9139\n",
      "Epoch 34/100\n",
      "10/10 [==============================] - 6s 610ms/step - loss: 679.0621 - val_loss: 680.3479\n",
      "Epoch 35/100\n",
      "10/10 [==============================] - 6s 600ms/step - loss: 678.7042 - val_loss: 679.8489\n",
      "Epoch 36/100\n",
      "10/10 [==============================] - 6s 605ms/step - loss: 678.0871 - val_loss: 679.3137\n",
      "Epoch 37/100\n",
      "10/10 [==============================] - 6s 596ms/step - loss: 677.6128 - val_loss: 678.9344\n",
      "Epoch 38/100\n",
      "10/10 [==============================] - 6s 607ms/step - loss: 677.1273 - val_loss: 678.5788\n",
      "Epoch 39/100\n",
      "10/10 [==============================] - 6s 610ms/step - loss: 676.5916 - val_loss: 677.9229\n",
      "Epoch 40/100\n",
      "10/10 [==============================] - 6s 605ms/step - loss: 676.1286 - val_loss: 677.6310\n",
      "Epoch 41/100\n",
      "10/10 [==============================] - 6s 601ms/step - loss: 675.6450 - val_loss: 677.0738\n",
      "Epoch 42/100\n",
      "10/10 [==============================] - 6s 596ms/step - loss: 675.2375 - val_loss: 676.6616\n",
      "Epoch 43/100\n",
      "10/10 [==============================] - 6s 606ms/step - loss: 674.6919 - val_loss: 676.1848\n",
      "Epoch 44/100\n",
      "10/10 [==============================] - 6s 597ms/step - loss: 674.2692 - val_loss: 675.8023\n",
      "Epoch 45/100\n",
      "10/10 [==============================] - 6s 598ms/step - loss: 673.7768 - val_loss: 675.4229\n",
      "Epoch 46/100\n",
      "10/10 [==============================] - 6s 604ms/step - loss: 673.3696 - val_loss: 675.1410\n",
      "Epoch 47/100\n",
      "10/10 [==============================] - 6s 603ms/step - loss: 672.8764 - val_loss: 674.5615\n",
      "Epoch 48/100\n",
      "10/10 [==============================] - 6s 600ms/step - loss: 672.5583 - val_loss: 674.2477\n",
      "Epoch 49/100\n",
      "10/10 [==============================] - 6s 602ms/step - loss: 672.0791 - val_loss: 673.6696\n",
      "Epoch 50/100\n",
      "10/10 [==============================] - 6s 606ms/step - loss: 671.7948 - val_loss: 673.4171\n",
      "Epoch 51/100\n",
      "10/10 [==============================] - 6s 609ms/step - loss: 671.3889 - val_loss: 672.9740\n",
      "Epoch 52/100\n",
      "10/10 [==============================] - 6s 604ms/step - loss: 670.9818 - val_loss: 672.5909\n",
      "Epoch 53/100\n",
      "10/10 [==============================] - 6s 594ms/step - loss: 670.5666 - val_loss: 672.2929\n",
      "Epoch 54/100\n",
      "10/10 [==============================] - 6s 606ms/step - loss: 670.1136 - val_loss: 671.7495\n",
      "Epoch 55/100\n",
      "10/10 [==============================] - 6s 604ms/step - loss: 669.8373 - val_loss: 671.2346\n",
      "Epoch 56/100\n",
      "10/10 [==============================] - 6s 595ms/step - loss: 669.5143 - val_loss: 671.0011\n",
      "Epoch 57/100\n",
      "10/10 [==============================] - 6s 599ms/step - loss: 669.1411 - val_loss: 670.4879\n",
      "Epoch 58/100\n",
      "10/10 [==============================] - 6s 596ms/step - loss: 668.7305 - val_loss: 670.1898\n",
      "Epoch 59/100\n",
      "10/10 [==============================] - 6s 603ms/step - loss: 668.3887 - val_loss: 670.0867\n",
      "Epoch 60/100\n",
      "10/10 [==============================] - 6s 608ms/step - loss: 668.0291 - val_loss: 669.6637\n",
      "Epoch 61/100\n",
      "10/10 [==============================] - 6s 598ms/step - loss: 667.7252 - val_loss: 669.2225\n",
      "Epoch 62/100\n",
      "10/10 [==============================] - 6s 600ms/step - loss: 667.3828 - val_loss: 668.9853\n",
      "Epoch 63/100\n",
      "10/10 [==============================] - 6s 600ms/step - loss: 667.1560 - val_loss: 668.5465\n",
      "Epoch 64/100\n",
      "10/10 [==============================] - 6s 608ms/step - loss: 666.7862 - val_loss: 668.2315\n",
      "Epoch 65/100\n",
      "10/10 [==============================] - 6s 600ms/step - loss: 666.4427 - val_loss: 668.0645\n",
      "Epoch 66/100\n",
      "10/10 [==============================] - 6s 605ms/step - loss: 666.1453 - val_loss: 667.5356\n",
      "Epoch 67/100\n",
      "10/10 [==============================] - 6s 600ms/step - loss: 665.8561 - val_loss: 667.3484\n",
      "Epoch 68/100\n",
      "10/10 [==============================] - 6s 599ms/step - loss: 665.4744 - val_loss: 666.7697\n",
      "Epoch 69/100\n",
      "10/10 [==============================] - 6s 607ms/step - loss: 665.2290 - val_loss: 666.5979\n",
      "Epoch 70/100\n",
      "10/10 [==============================] - 6s 602ms/step - loss: 664.9759 - val_loss: 666.2038\n",
      "Epoch 71/100\n",
      "10/10 [==============================] - 6s 600ms/step - loss: 664.6398 - val_loss: 665.9707\n",
      "Epoch 72/100\n",
      "10/10 [==============================] - 6s 595ms/step - loss: 664.4177 - val_loss: 665.7054\n",
      "Epoch 73/100\n",
      "10/10 [==============================] - 6s 602ms/step - loss: 664.0797 - val_loss: 665.1931\n",
      "Epoch 74/100\n",
      "10/10 [==============================] - 6s 603ms/step - loss: 663.8749 - val_loss: 664.9599\n",
      "Epoch 75/100\n",
      "10/10 [==============================] - 6s 598ms/step - loss: 663.5607 - val_loss: 664.7031\n",
      "Epoch 76/100\n",
      "10/10 [==============================] - 6s 597ms/step - loss: 663.3287 - val_loss: 664.3858\n",
      "Epoch 77/100\n",
      "10/10 [==============================] - 6s 602ms/step - loss: 663.0721 - val_loss: 664.1153\n",
      "Epoch 78/100\n",
      "10/10 [==============================] - 6s 605ms/step - loss: 662.7889 - val_loss: 663.8579\n",
      "Epoch 79/100\n",
      "10/10 [==============================] - 6s 601ms/step - loss: 662.5182 - val_loss: 663.5454\n",
      "Epoch 80/100\n",
      "10/10 [==============================] - 6s 624ms/step - loss: 662.2833 - val_loss: 663.3000\n",
      "Epoch 81/100\n",
      "10/10 [==============================] - 6s 594ms/step - loss: 662.0523 - val_loss: 662.9215\n",
      "Epoch 82/100\n",
      "10/10 [==============================] - 6s 565ms/step - loss: 661.8202 - val_loss: 662.7730\n",
      "Epoch 83/100\n",
      "10/10 [==============================] - 6s 583ms/step - loss: 661.5430 - val_loss: 662.3495\n",
      "Epoch 84/100\n",
      "10/10 [==============================] - 6s 615ms/step - loss: 661.3492 - val_loss: 662.1108\n",
      "Epoch 85/100\n",
      "10/10 [==============================] - 6s 630ms/step - loss: 661.1465 - val_loss: 661.7325\n",
      "Epoch 86/100\n",
      "10/10 [==============================] - 6s 585ms/step - loss: 660.8247 - val_loss: 661.6184\n",
      "Epoch 87/100\n",
      "10/10 [==============================] - 6s 593ms/step - loss: 660.6993 - val_loss: 661.2647\n",
      "Epoch 88/100\n",
      "10/10 [==============================] - 6s 618ms/step - loss: 660.4862 - val_loss: 660.9487\n",
      "Epoch 89/100\n",
      "10/10 [==============================] - 6s 593ms/step - loss: 660.2330 - val_loss: 660.8836\n",
      "Epoch 90/100\n",
      "10/10 [==============================] - 6s 631ms/step - loss: 660.0034 - val_loss: 660.7036\n",
      "Epoch 91/100\n",
      "10/10 [==============================] - 6s 637ms/step - loss: 659.7857 - val_loss: 660.5955\n",
      "Epoch 92/100\n",
      "10/10 [==============================] - 6s 600ms/step - loss: 659.6035 - val_loss: 660.1686\n",
      "Epoch 93/100\n",
      "10/10 [==============================] - 6s 607ms/step - loss: 659.3684 - val_loss: 660.0462\n",
      "Epoch 94/100\n",
      "10/10 [==============================] - 6s 606ms/step - loss: 659.1991 - val_loss: 659.8172\n",
      "Epoch 95/100\n",
      "10/10 [==============================] - 6s 600ms/step - loss: 658.9976 - val_loss: 659.4964\n",
      "Epoch 96/100\n",
      "10/10 [==============================] - 6s 598ms/step - loss: 658.8086 - val_loss: 659.3789\n",
      "Epoch 97/100\n",
      "10/10 [==============================] - 6s 606ms/step - loss: 658.6015 - val_loss: 659.0737\n",
      "Epoch 98/100\n",
      "10/10 [==============================] - 6s 602ms/step - loss: 658.4449 - val_loss: 658.8021\n",
      "Epoch 99/100\n",
      "10/10 [==============================] - 6s 604ms/step - loss: 658.2305 - val_loss: 658.6208\n",
      "Epoch 100/100\n",
      "10/10 [==============================] - 6s 594ms/step - loss: 658.1010 - val_loss: 658.4832\n",
      "CPU times: user 15min 12s, sys: 15.9 s, total: 15min 27s\n",
      "Wall time: 9min 56s\n"
     ]
    }
   ],
   "source": [
    "%%time\n",
    "# Training\n",
    "# hist: record of the training loss at each epoch\n",
    "hist = vae.fit_generator(generator=training_generator,\n",
    "                         validation_data=validation_generator,\n",
    "                         shuffle=True,\n",
    "                         epochs=epochs,\n",
    "                         callbacks=[WarmUpCallback(beta, kappa)])"
   ]
  },
  {
   "cell_type": "code",
   "execution_count": 8,
   "metadata": {
    "ExecuteTime": {
     "end_time": "2019-02-07T22:21:16.020159Z",
     "start_time": "2019-02-07T22:21:16.001496Z"
    }
   },
   "outputs": [],
   "source": [
    "# Trained model\n",
    "encoder = Model(rnaseq_input, z_mean_encoded)"
   ]
  },
  {
   "cell_type": "code",
   "execution_count": 9,
   "metadata": {
    "ExecuteTime": {
     "end_time": "2019-02-07T22:21:16.277606Z",
     "start_time": "2019-02-07T22:21:16.021707Z"
    }
   },
   "outputs": [
    {
     "data": {
      "image/png": "[encoded data removed]",
      "text/plain": [
       "<matplotlib.figure.Figure at 0x7fb205d11400>"
      ]
     },
     "metadata": {},
     "output_type": "display_data"
    }
   ],
   "source": [
    "# Visualize training performance\n",
    "history_df = pd.DataFrame(hist.history)\n",
    "#loss_df = pd.DataFrame(hist.history['loss'])\n",
    "#ax = loss_df.plot()\n",
    "ax = history_df.plot()\n",
    "ax.set_xlabel('Epochs')\n",
    "ax.set_ylabel('VAE Loss')\n",
    "fig = ax.get_figure()\n",
    "fig.savefig(hist_plot_file)"
   ]
  },
  {
   "cell_type": "code",
   "execution_count": 10,
   "metadata": {
    "ExecuteTime": {
     "end_time": "2019-02-07T22:21:16.403102Z",
     "start_time": "2019-02-07T22:21:16.279300Z"
    }
   },
   "outputs": [
    {
     "data": {
      "image/png": "[encoded data removed]",
      "text/plain": [
       "<matplotlib.figure.Figure at 0x7fb1fd04f828>"
      ]
     },
     "metadata": {},
     "output_type": "display_data"
    }
   ],
   "source": [
    "loss = hist.history['loss']\n",
    "val_loss = hist.history['val_loss']\n",
    "epochs = range(epochs)\n",
    "plt.figure()\n",
    "plt.plot(epochs, loss, 'o', label='Training loss')\n",
    "#plt.plot(epochs, val_loss, 'b', label='Validation loss')\n",
    "plt.title('Training and validation loss')\n",
    "plt.legend()\n",
    "plt.show()"
   ]
  },
  {
   "cell_type": "code",
   "execution_count": 11,
   "metadata": {
    "ExecuteTime": {
     "end_time": "2019-02-07T22:21:16.518093Z",
     "start_time": "2019-02-07T22:21:16.404685Z"
    }
   },
   "outputs": [],
   "source": [
    "# Output\n",
    "\n",
    "# Save training performance\n",
    "history_df = pd.DataFrame(hist.history)\n",
    "history_df = history_df.assign(learning_rate=learning_rate)\n",
    "#history_df = history_df.assign(batch_size=batch_size)\n",
    "history_df = history_df.assign(epochs=epochs)\n",
    "history_df = history_df.assign(kappa=kappa)\n",
    "history_df.to_csv(stat_file, sep='\\t')\n",
    "\n",
    "# Save models\n",
    "# (source) https://machinelearningmastery.com/save-load-keras-deep-learning-models/\n",
    "\n",
    "# Save encoder model\n",
    "encoder.save(model_encoder_file)\n",
    "    \n",
    "# serialize weights to HDF5\n",
    "encoder.save_weights(weights_encoder_file)\n",
    "\n",
    "# Save decoder model\n",
    "# (source) https://github.com/greenelab/tybalt/blob/master/scripts/nbconverted/tybalt_vae.py\n",
    "decoder_input = Input(shape=(latent_dim, ))  # can generate from any sampled z vector\n",
    "_x_decoded_mean = decoder_model(decoder_input)\n",
    "decoder = Model(decoder_input, _x_decoded_mean)\n",
    "\n",
    "decoder.save(model_decoder_file)\n",
    "    \n",
    "# serialize weights to HDF5\n",
    "decoder.save_weights(weights_decoder_file)"
   ]
  }
 ],
 "metadata": {
  "kernelspec": {
   "display_name": "Python [conda env:Pa]",
   "language": "python",
   "name": "conda-env-Pa-py"
  },
  "language_info": {
   "codemirror_mode": {
    "name": "ipython",
    "version": 3
   },
   "file_extension": ".py",
   "mimetype": "text/x-python",
   "name": "python",
   "nbconvert_exporter": "python",
   "pygments_lexer": "ipython3",
   "version": "3.5.5"
  }
 },
 "nbformat": 4,
 "nbformat_minor": 2
}
