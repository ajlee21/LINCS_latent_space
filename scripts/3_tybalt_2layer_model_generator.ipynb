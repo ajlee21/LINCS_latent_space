{
 "cells": [
  {
   "cell_type": "code",
   "execution_count": 1,
   "metadata": {
    "ExecuteTime": {
     "end_time": "2019-01-16T18:22:05.733165Z",
     "start_time": "2019-01-16T18:22:04.826365Z"
    }
   },
   "outputs": [
    {
     "name": "stderr",
     "output_type": "stream",
     "text": [
      "Using TensorFlow backend.\n"
     ]
    }
   ],
   "source": [
    "%load_ext autoreload\n",
    "%autoreload 2\n",
    "# -----------------------------------------------------------------------------------------------------------------------\n",
    "# By Alexandra Lee\n",
    "# (created December 2018) \n",
    "#\n",
    "# Encode Pseudomonas gene expression data into low dimensional latent space using \n",
    "# Tybalt with 2-hidden layers\n",
    "# \n",
    "# Note: Need to use python 3 to support '*' syntax change\n",
    "# --------------------------------------------------------------------------------------------------------------------\n",
    "import os\n",
    "import argparse\n",
    "import pandas as pd\n",
    "import matplotlib.pyplot as plt\n",
    "import tensorflow as tf\n",
    "import pickle\n",
    "from functions.my_classes import DataGenerator\n",
    "from functions.helper_ae import sampling_maker, CustomVariationalLayer, WarmUpCallback"
   ]
  },
  {
   "cell_type": "code",
   "execution_count": 2,
   "metadata": {
    "ExecuteTime": {
     "end_time": "2019-01-16T18:22:05.754562Z",
     "start_time": "2019-01-16T18:22:05.735126Z"
    }
   },
   "outputs": [],
   "source": [
    "# To ensure reproducibility using Keras during development\n",
    "# https://keras.io/getting-started/faq/#how-can-i-obtain-reproducible-results-using-keras-during-development\n",
    "import numpy as np\n",
    "import random as rn\n",
    "\n",
    "# The below is necessary in Python 3.2.3 onwards to\n",
    "# have reproducible behavior for certain hash-based operations.\n",
    "# See these references for further details:\n",
    "# https://docs.python.org/3.4/using/cmdline.html#envvar-PYTHONHASHSEED\n",
    "# https://github.com/keras-team/keras/issues/2280#issuecomment-306959926\n",
    "randomState = 123\n",
    "import os\n",
    "os.environ['PYTHONHASHSEED'] = '0'\n",
    "\n",
    "# The below is necessary for starting Numpy generated random numbers\n",
    "# in a well-defined initial state.\n",
    "\n",
    "np.random.seed(42)\n",
    "\n",
    "# The below is necessary for starting core Python generated random numbers\n",
    "# in a well-defined state.\n",
    "\n",
    "rn.seed(12345)\n",
    "\n",
    "# Force TensorFlow to use single thread.\n",
    "# Multiple threads are a potential source of\n",
    "# non-reproducible results.\n",
    "# For further details, see: https://stackoverflow.com/questions/42022950/which-seeds-have-to-be-set-where-to-realize-100-reproducibility-of-training-res\n",
    "\n",
    "session_conf = tf.ConfigProto(intra_op_parallelism_threads=1, inter_op_parallelism_threads=1)\n",
    "\n",
    "from keras import backend as K\n",
    "\n",
    "# The below tf.set_random_seed() will make random number generation\n",
    "# in the TensorFlow backend have a well-defined initial state.\n",
    "# For further details, see: https://www.tensorflow.org/api_docs/python/tf/set_random_seed\n",
    "\n",
    "tf.set_random_seed(1234)\n",
    "\n",
    "sess = tf.Session(graph=tf.get_default_graph(), config=session_conf)\n",
    "K.set_session(sess)\n",
    "\n",
    "import keras\n",
    "from keras.layers import Input, Dense, Lambda, Layer, Activation\n",
    "from keras.layers.normalization import BatchNormalization\n",
    "from keras.models import Model, Sequential\n",
    "from keras import metrics, optimizers\n",
    "from keras.callbacks import Callback"
   ]
  },
  {
   "cell_type": "code",
   "execution_count": 3,
   "metadata": {
    "ExecuteTime": {
     "end_time": "2019-01-16T18:22:05.786841Z",
     "start_time": "2019-01-16T18:22:05.755868Z"
    }
   },
   "outputs": [],
   "source": [
    "# --------------------------------------------------------------------------------------------------------------------\n",
    "# Initialize hyper parameters\n",
    "#\n",
    "# learning rate: \n",
    "# batch size: Total number of training examples present in a single batch\n",
    "#             Iterations is the number of batches needed to complete one epoch\n",
    "# epochs: One Epoch is when an ENTIRE dataset is passed forward and backward through the neural network only ONCE\n",
    "# kappa: warmup\n",
    "# original dim: dimensions of the raw data\n",
    "# latent dim: dimensiosn of the latent space (fixed by the user)\n",
    "#   Note: intrinsic latent space dimension unknown\n",
    "# epsilon std: \n",
    "# beta: Threshold value for ReLU?\n",
    "# --------------------------------------------------------------------------------------------------------------------\n",
    "\n",
    "learning_rate = 0.0001#0.001\n",
    "epochs = 100\n",
    "kappa = 0.01\n",
    "\n",
    "intermediate_dim = 100\n",
    "latent_dim = 10\n",
    "epsilon_std = 1.0\n",
    "beta = K.variable(0)\n",
    "\n",
    "chunk_size = 100\n",
    "num_samples_train = 1319122\n",
    "num_samples_val = 1319\n",
    "\n",
    "\n",
    "train_file =  \"/home/alexandra/Documents/Data/LINCS/train_model_input.txt.xz\"\n",
    "validation_file = \"/home/alexandra/Documents/Data/LINCS/validation_model_input.txt.xz\"\n",
    "\n",
    "stat_file =  os.path.join(os.path.dirname(os.getcwd()), \"stats\", \"tybalt_2layer_{}latent_stats.tsv\".format(latent_dim))\n",
    "hist_plot_file = os.path.join(os.path.dirname(os.getcwd()), \"stats\", \"tybalt_2layer_{}latent_hist.png\".format(latent_dim))\n",
    "\n",
    "encoded_file = os.path.join(os.path.dirname(os.getcwd()), \"encoded\", \"train_input_2layer_{}latent_encoded.txt\".format(latent_dim))\n",
    "\n",
    "model_encoder_file = os.path.join(os.path.dirname(os.getcwd()), \"models\", \"tybalt_2layer_{}latent_encoder_model.h5\".format(latent_dim))\n",
    "weights_encoder_file = os.path.join(os.path.dirname(os.getcwd()), \"models\", \"tybalt_2layer_{}latent_encoder_weights.h5\".format(latent_dim))\n",
    "model_decoder_file = os.path.join(os.path.dirname(os.getcwd()), \"models\", \"tybalt_2layer_{}latent_decoder_model.h5\".format(latent_dim))\n",
    "weights_decoder_file = os.path.join(os.path.dirname(os.getcwd()), \"models\", \"tybalt_2layer_{}latent_decoder_weights.h5\".format(latent_dim))"
   ]
  },
  {
   "cell_type": "code",
   "execution_count": 4,
   "metadata": {
    "ExecuteTime": {
     "end_time": "2019-01-16T18:22:05.823685Z",
     "start_time": "2019-01-16T18:22:05.788073Z"
    }
   },
   "outputs": [],
   "source": [
    "# Generators\n",
    "training_generator = DataGenerator(train_file, chunk_size, num_samples_train)\n",
    "validation_generator = DataGenerator(validation_file, chunk_size, num_samples_val)"
   ]
  },
  {
   "cell_type": "code",
   "execution_count": 5,
   "metadata": {
    "ExecuteTime": {
     "end_time": "2019-01-16T18:22:06.083062Z",
     "start_time": "2019-01-16T18:22:05.825043Z"
    }
   },
   "outputs": [
    {
     "name": "stderr",
     "output_type": "stream",
     "text": [
      "/home/alexandra/anaconda3/envs/Pa/lib/python3.5/site-packages/ipykernel/__main__.py:81: UserWarning: Output \"custom_variational_layer_1\" missing from loss dictionary. We assume this was done on purpose, and we will not be expecting any data to be passed to \"custom_variational_layer_1\" during training.\n"
     ]
    }
   ],
   "source": [
    "# Architecture of VAE\n",
    "dim_file =  os.path.join(os.path.dirname(os.getcwd()), \"metadata\", \"validation_dim.pickle\")\n",
    "\n",
    "with open(dim_file, 'rb') as f:\n",
    "    num_samples, num_genes = pickle.load(f)\n",
    "\n",
    "original_dim = num_genes\n",
    "rnaseq_input = Input(shape=(original_dim, ))\n",
    "\n",
    "# Encoder\n",
    "\n",
    "# Input layer is compressed into a mean and log variance vector of size\n",
    "# `latent_dim`. Each layer is initialized with glorot uniform weights and each\n",
    "# step (dense connections, batch norm,and relu activation) are funneled\n",
    "# separately\n",
    "# Each vector of length `latent_dim` are connected to the rnaseq input tensor\n",
    "\n",
    "# \"z_mean_dense_linear\" is the encoded representation of the input\n",
    "#    Take as input arrays of shape (*, original dim) and output arrays of shape (*, latent dim)\n",
    "#    Combine input from previous layer using linear summ\n",
    "# Normalize the activations (combined weighted nodes of the previous layer)\n",
    "#   Transformation that maintains the mean activation close to 0 and the activation standard deviation close to 1.\n",
    "# Apply ReLU activation function to combine weighted nodes from previous layer\n",
    "#   relu = threshold cutoff (cutoff value will be learned)\n",
    "#   ReLU function filters noise\n",
    "\n",
    "# X is encoded using Q(z|X) to yield mu(X), sigma(X) that describes latent space distribution\n",
    "hidden_dense_linear = Dense(intermediate_dim, kernel_initializer='glorot_uniform')(rnaseq_input)\n",
    "hidden_dense_batchnorm = BatchNormalization()(hidden_dense_linear)\n",
    "hidden_encoded = Activation('relu')(hidden_dense_batchnorm)\n",
    "\n",
    "# Note:\n",
    "# Normalize and relu filter at each layer adds non-linear component (relu is non-linear function)\n",
    "# If architecture is layer-layer-normalization-relu then the computation is still linear\n",
    "# Add additional layers in triplicate\n",
    "z_mean_dense_linear = Dense(latent_dim, kernel_initializer='glorot_uniform')(hidden_encoded)\n",
    "z_mean_dense_batchnorm = BatchNormalization()(z_mean_dense_linear)\n",
    "z_mean_encoded = Activation('relu')(z_mean_dense_batchnorm)\n",
    "\n",
    "z_log_var_dense_linear = Dense(latent_dim, kernel_initializer='glorot_uniform')(rnaseq_input)\n",
    "z_log_var_dense_batchnorm = BatchNormalization()(z_log_var_dense_linear)\n",
    "z_log_var_encoded = Activation('relu')(z_log_var_dense_batchnorm)\n",
    "\n",
    "# Customized layer\n",
    "# Returns the encoded and randomly sampled z vector\n",
    "# Takes two keras layers as input to the custom sampling function layer with a\n",
    "# latent_dim` output\n",
    "#\n",
    "# sampling():\n",
    "# randomly sample similar points z from the latent normal distribution that is assumed to generate the data,\n",
    "# via z = z_mean + exp(z_log_sigma) * epsilon, where epsilon is a random normal tensor\n",
    "# z ~ Q(z|X)\n",
    "# Note: there is a trick to reparameterize to standard normal distribution so that the space is differentiable and \n",
    "# therefore gradient descent can be used\n",
    "#\n",
    "# Returns the encoded and randomly sampled z vector\n",
    "# Takes two keras layers as input to the custom sampling function layer with a\n",
    "# latent_dim` output\n",
    "#z = Lambda(sampling,\n",
    "#           output_shape=(latent_dim, ))([z_mean_encoded, z_log_var_encoded])\n",
    "z = Lambda(sampling_maker(epsilon_std),\n",
    "               output_shape=(latent_dim, ))([z_mean_encoded, z_log_var_encoded])\n",
    "\n",
    "# Decoder\n",
    "\n",
    "# The decoding layer is much simpler with a single layer glorot uniform\n",
    "# initialized and sigmoid activation\n",
    "# Reconstruct P(X|z)\n",
    "decoder_model = Sequential()\n",
    "decoder_model.add(Dense(intermediate_dim, activation='relu', input_dim=latent_dim))\n",
    "decoder_model.add(Dense(original_dim, activation='sigmoid'))\n",
    "rnaseq_reconstruct = decoder_model(z)\n",
    "\n",
    "\n",
    "# Connections\n",
    "# fully-connected network\n",
    "adam = optimizers.Adam(lr=learning_rate)\n",
    "vae_layer = CustomVariationalLayer(original_dim, z_log_var_encoded, z_mean_encoded, beta)([\n",
    "        rnaseq_input, rnaseq_reconstruct])\n",
    "vae = Model(rnaseq_input, vae_layer)\n",
    "vae.compile(optimizer=adam, loss=None, loss_weights=[beta])"
   ]
  },
  {
   "cell_type": "code",
   "execution_count": 6,
   "metadata": {
    "ExecuteTime": {
     "end_time": "2019-01-17T19:54:25.453081Z",
     "start_time": "2019-01-16T18:22:06.084468Z"
    },
    "scrolled": true
   },
   "outputs": [
    {
     "name": "stdout",
     "output_type": "stream",
     "text": [
      "Epoch 1/100\n",
      "13191/13191 [==============================] - 956s 72ms/step - loss: 639.4741 - val_loss: 652.5829\n",
      "Epoch 2/100\n",
      "13191/13191 [==============================] - 924s 70ms/step - loss: 637.4975 - val_loss: 646.7709\n",
      "Epoch 3/100\n",
      "13191/13191 [==============================] - 925s 70ms/step - loss: 636.6543 - val_loss: 645.7741\n",
      "Epoch 4/100\n",
      "13191/13191 [==============================] - 932s 71ms/step - loss: 636.0016 - val_loss: 643.0273\n",
      "Epoch 5/100\n",
      "13191/13191 [==============================] - 965s 73ms/step - loss: 635.4587 - val_loss: 641.5550\n",
      "Epoch 6/100\n",
      "13191/13191 [==============================] - 924s 70ms/step - loss: 634.9126 - val_loss: 641.1780\n",
      "Epoch 7/100\n",
      "13191/13191 [==============================] - 923s 70ms/step - loss: 634.4337 - val_loss: 641.6107\n",
      "Epoch 8/100\n",
      "13191/13191 [==============================] - 924s 70ms/step - loss: 634.0708 - val_loss: 642.2061\n",
      "Epoch 9/100\n",
      "13191/13191 [==============================] - 924s 70ms/step - loss: 633.7659 - val_loss: 643.4638\n",
      "Epoch 10/100\n",
      "13191/13191 [==============================] - 939s 71ms/step - loss: 633.4717 - val_loss: 643.0740\n",
      "Epoch 11/100\n",
      "13191/13191 [==============================] - 917s 69ms/step - loss: 633.2459 - val_loss: 643.1934\n",
      "Epoch 12/100\n",
      "13191/13191 [==============================] - 919s 70ms/step - loss: 633.0386 - val_loss: 643.5035\n",
      "Epoch 13/100\n",
      "13191/13191 [==============================] - 919s 70ms/step - loss: 632.7794 - val_loss: 644.0709\n",
      "Epoch 14/100\n",
      "13191/13191 [==============================] - 920s 70ms/step - loss: 632.5445 - val_loss: 644.8647\n",
      "Epoch 15/100\n",
      "13191/13191 [==============================] - 917s 70ms/step - loss: 632.3265 - val_loss: 644.0787\n",
      "Epoch 16/100\n",
      "13191/13191 [==============================] - 919s 70ms/step - loss: 632.1721 - val_loss: 643.9131\n",
      "Epoch 17/100\n",
      "13191/13191 [==============================] - 919s 70ms/step - loss: 632.0211 - val_loss: 642.3510\n",
      "Epoch 18/100\n",
      "13191/13191 [==============================] - 937s 71ms/step - loss: 631.8893 - val_loss: 641.6552\n",
      "Epoch 19/100\n",
      "13191/13191 [==============================] - 927s 70ms/step - loss: 631.7823 - val_loss: 644.2914\n",
      "Epoch 20/100\n",
      "13191/13191 [==============================] - 913s 69ms/step - loss: 631.6546 - val_loss: 648.2847\n",
      "Epoch 21/100\n",
      "13191/13191 [==============================] - 913s 69ms/step - loss: 631.5887 - val_loss: 645.1811\n",
      "Epoch 22/100\n",
      "13191/13191 [==============================] - 913s 69ms/step - loss: 631.5307 - val_loss: 642.6327\n",
      "Epoch 23/100\n",
      "13191/13191 [==============================] - 913s 69ms/step - loss: 631.4472 - val_loss: 640.9171\n",
      "Epoch 24/100\n",
      "13191/13191 [==============================] - 914s 69ms/step - loss: 631.3395 - val_loss: 640.0687\n",
      "Epoch 25/100\n",
      "13191/13191 [==============================] - 913s 69ms/step - loss: 631.2735 - val_loss: 641.2419\n",
      "Epoch 26/100\n",
      "13191/13191 [==============================] - 913s 69ms/step - loss: 631.2388 - val_loss: 641.1158\n",
      "Epoch 27/100\n",
      "13191/13191 [==============================] - 912s 69ms/step - loss: 631.1851 - val_loss: 640.0514\n",
      "Epoch 28/100\n",
      "13191/13191 [==============================] - 913s 69ms/step - loss: 631.1191 - val_loss: 638.8682\n",
      "Epoch 29/100\n",
      "13191/13191 [==============================] - 913s 69ms/step - loss: 631.0502 - val_loss: 637.6872\n",
      "Epoch 30/100\n",
      "13191/13191 [==============================] - 913s 69ms/step - loss: 631.0017 - val_loss: 636.7758\n",
      "Epoch 31/100\n",
      "13191/13191 [==============================] - 914s 69ms/step - loss: 630.9272 - val_loss: 636.9852\n",
      "Epoch 32/100\n",
      "13191/13191 [==============================] - 913s 69ms/step - loss: 630.8876 - val_loss: 636.5364\n",
      "Epoch 33/100\n",
      "13191/13191 [==============================] - 913s 69ms/step - loss: 630.8754 - val_loss: 636.4568\n",
      "Epoch 34/100\n",
      "13191/13191 [==============================] - 914s 69ms/step - loss: 630.8118 - val_loss: 636.4651\n",
      "Epoch 35/100\n",
      "13191/13191 [==============================] - 914s 69ms/step - loss: 630.7510 - val_loss: 636.1459\n",
      "Epoch 36/100\n",
      "13191/13191 [==============================] - 913s 69ms/step - loss: 630.7108 - val_loss: 636.3333\n",
      "Epoch 37/100\n",
      "13191/13191 [==============================] - 913s 69ms/step - loss: 630.6568 - val_loss: 637.2374\n",
      "Epoch 38/100\n",
      "13191/13191 [==============================] - 914s 69ms/step - loss: 630.5737 - val_loss: 637.6555\n",
      "Epoch 39/100\n",
      "13191/13191 [==============================] - 913s 69ms/step - loss: 630.5549 - val_loss: 637.3630\n",
      "Epoch 40/100\n",
      "13191/13191 [==============================] - 914s 69ms/step - loss: 630.5389 - val_loss: 637.8473\n",
      "Epoch 41/100\n",
      "13191/13191 [==============================] - 915s 69ms/step - loss: 630.4847 - val_loss: 638.2190\n",
      "Epoch 42/100\n",
      "13191/13191 [==============================] - 915s 69ms/step - loss: 630.4529 - val_loss: 637.9474\n",
      "Epoch 43/100\n",
      "13191/13191 [==============================] - 912s 69ms/step - loss: 630.4076 - val_loss: 636.1675\n",
      "Epoch 44/100\n",
      "13191/13191 [==============================] - 915s 69ms/step - loss: 630.4167 - val_loss: 635.9330\n",
      "Epoch 45/100\n",
      "13191/13191 [==============================] - 915s 69ms/step - loss: 630.3917 - val_loss: 636.0722\n",
      "Epoch 46/100\n",
      "13191/13191 [==============================] - 914s 69ms/step - loss: 630.3793 - val_loss: 635.6223\n",
      "Epoch 47/100\n",
      "13191/13191 [==============================] - 914s 69ms/step - loss: 630.3449 - val_loss: 635.7983\n",
      "Epoch 48/100\n",
      "13191/13191 [==============================] - 915s 69ms/step - loss: 630.2959 - val_loss: 635.7631\n",
      "Epoch 49/100\n",
      "13191/13191 [==============================] - 914s 69ms/step - loss: 630.2435 - val_loss: 635.9706\n",
      "Epoch 50/100\n",
      "13191/13191 [==============================] - 914s 69ms/step - loss: 630.2186 - val_loss: 635.8803\n",
      "Epoch 51/100\n",
      "13191/13191 [==============================] - 915s 69ms/step - loss: 630.1866 - val_loss: 636.1081\n",
      "Epoch 52/100\n",
      "13191/13191 [==============================] - 916s 69ms/step - loss: 630.1609 - val_loss: 635.8849\n",
      "Epoch 53/100\n",
      "13191/13191 [==============================] - 914s 69ms/step - loss: 630.1563 - val_loss: 635.7102\n",
      "Epoch 54/100\n",
      "13191/13191 [==============================] - 913s 69ms/step - loss: 630.1327 - val_loss: 635.7286\n",
      "Epoch 55/100\n",
      "13191/13191 [==============================] - 915s 69ms/step - loss: 630.1040 - val_loss: 635.7245\n",
      "Epoch 56/100\n",
      "13191/13191 [==============================] - 914s 69ms/step - loss: 630.0840 - val_loss: 636.5006\n",
      "Epoch 57/100\n",
      "13191/13191 [==============================] - 914s 69ms/step - loss: 630.0794 - val_loss: 637.5718\n",
      "Epoch 58/100\n",
      "13191/13191 [==============================] - 914s 69ms/step - loss: 630.0560 - val_loss: 638.1892\n",
      "Epoch 59/100\n",
      "13191/13191 [==============================] - 915s 69ms/step - loss: 630.0203 - val_loss: 637.1309\n",
      "Epoch 60/100\n",
      "13191/13191 [==============================] - 913s 69ms/step - loss: 629.9909 - val_loss: 637.1521\n",
      "Epoch 61/100\n",
      "13191/13191 [==============================] - 914s 69ms/step - loss: 629.9398 - val_loss: 637.1841\n",
      "Epoch 62/100\n",
      "13191/13191 [==============================] - 913s 69ms/step - loss: 629.9213 - val_loss: 638.2412\n",
      "Epoch 63/100\n",
      "13191/13191 [==============================] - 913s 69ms/step - loss: 629.8875 - val_loss: 639.4914\n",
      "Epoch 64/100\n",
      "13191/13191 [==============================] - 913s 69ms/step - loss: 629.8628 - val_loss: 640.3237\n",
      "Epoch 65/100\n",
      "13191/13191 [==============================] - 914s 69ms/step - loss: 629.8278 - val_loss: 641.1108\n",
      "Epoch 66/100\n",
      "13191/13191 [==============================] - 913s 69ms/step - loss: 629.8045 - val_loss: 640.5160\n",
      "Epoch 67/100\n",
      "13191/13191 [==============================] - 913s 69ms/step - loss: 629.8045 - val_loss: 638.7706\n",
      "Epoch 68/100\n",
      "13191/13191 [==============================] - 913s 69ms/step - loss: 629.7982 - val_loss: 638.4760\n",
      "Epoch 69/100\n",
      "13191/13191 [==============================] - 914s 69ms/step - loss: 629.7856 - val_loss: 639.6017\n",
      "Epoch 70/100\n",
      "13191/13191 [==============================] - 914s 69ms/step - loss: 629.7537 - val_loss: 639.9565\n",
      "Epoch 71/100\n",
      "13191/13191 [==============================] - 913s 69ms/step - loss: 629.7044 - val_loss: 638.2891\n",
      "Epoch 72/100\n",
      "13191/13191 [==============================] - 912s 69ms/step - loss: 629.6972 - val_loss: 638.0588\n",
      "Epoch 73/100\n"
     ]
    },
    {
     "name": "stdout",
     "output_type": "stream",
     "text": [
      "13191/13191 [==============================] - 913s 69ms/step - loss: 629.6616 - val_loss: 638.5573\n",
      "Epoch 74/100\n",
      "13191/13191 [==============================] - 914s 69ms/step - loss: 629.6440 - val_loss: 638.5782\n",
      "Epoch 75/100\n",
      "13191/13191 [==============================] - 913s 69ms/step - loss: 629.6468 - val_loss: 638.5131\n",
      "Epoch 76/100\n",
      "13191/13191 [==============================] - 913s 69ms/step - loss: 629.6214 - val_loss: 638.8745\n",
      "Epoch 77/100\n",
      "13191/13191 [==============================] - 914s 69ms/step - loss: 629.5934 - val_loss: 638.7195\n",
      "Epoch 78/100\n",
      "13191/13191 [==============================] - 913s 69ms/step - loss: 629.5753 - val_loss: 638.4785\n",
      "Epoch 79/100\n",
      "13191/13191 [==============================] - 914s 69ms/step - loss: 629.5605 - val_loss: 639.2664\n",
      "Epoch 80/100\n",
      "13191/13191 [==============================] - 919s 70ms/step - loss: 629.5464 - val_loss: 640.3017\n",
      "Epoch 81/100\n",
      "13191/13191 [==============================] - 925s 70ms/step - loss: 629.5108 - val_loss: 641.5978\n",
      "Epoch 82/100\n",
      "13191/13191 [==============================] - 939s 71ms/step - loss: 629.4737 - val_loss: 643.8000\n",
      "Epoch 83/100\n",
      "13191/13191 [==============================] - 951s 72ms/step - loss: 629.4746 - val_loss: 644.8480\n",
      "Epoch 84/100\n",
      "13191/13191 [==============================] - 952s 72ms/step - loss: 629.4421 - val_loss: 641.9717\n",
      "Epoch 85/100\n",
      "13191/13191 [==============================] - 948s 72ms/step - loss: 629.4284 - val_loss: 640.0550\n",
      "Epoch 86/100\n",
      "13191/13191 [==============================] - 939s 71ms/step - loss: 629.4381 - val_loss: 639.4305\n",
      "Epoch 87/100\n",
      "13191/13191 [==============================] - 940s 71ms/step - loss: 629.3895 - val_loss: 639.3649\n",
      "Epoch 88/100\n",
      "13191/13191 [==============================] - 929s 70ms/step - loss: 629.3641 - val_loss: 637.4117\n",
      "Epoch 89/100\n",
      "13191/13191 [==============================] - 930s 71ms/step - loss: 629.3448 - val_loss: 637.6917\n",
      "Epoch 90/100\n",
      "13191/13191 [==============================] - 922s 70ms/step - loss: 629.3191 - val_loss: 638.3505\n",
      "Epoch 91/100\n",
      "13191/13191 [==============================] - 923s 70ms/step - loss: 629.2977 - val_loss: 638.2032\n",
      "Epoch 92/100\n",
      "13191/13191 [==============================] - 923s 70ms/step - loss: 629.2819 - val_loss: 638.2550\n",
      "Epoch 93/100\n",
      "13191/13191 [==============================] - 950s 72ms/step - loss: 629.2692 - val_loss: 637.9077\n",
      "Epoch 94/100\n",
      "13191/13191 [==============================] - 918s 70ms/step - loss: 629.2558 - val_loss: 637.1165\n",
      "Epoch 95/100\n",
      "13191/13191 [==============================] - 913s 69ms/step - loss: 629.2397 - val_loss: 636.7878\n",
      "Epoch 96/100\n",
      "13191/13191 [==============================] - 913s 69ms/step - loss: 629.2345 - val_loss: 637.0576\n",
      "Epoch 97/100\n",
      "13191/13191 [==============================] - 913s 69ms/step - loss: 629.2187 - val_loss: 638.7301\n",
      "Epoch 98/100\n",
      "13191/13191 [==============================] - 914s 69ms/step - loss: 629.1909 - val_loss: 637.3945\n",
      "Epoch 99/100\n",
      "13191/13191 [==============================] - 915s 69ms/step - loss: 629.1592 - val_loss: 636.5473\n",
      "Epoch 100/100\n",
      "13191/13191 [==============================] - 915s 69ms/step - loss: 629.1286 - val_loss: 637.1278\n",
      "CPU times: user 1d 7h 4min 59s, sys: 11min 32s, total: 1d 7h 16min 32s\n",
      "Wall time: 1d 1h 32min 19s\n"
     ]
    }
   ],
   "source": [
    "%%time\n",
    "# Training\n",
    "# hist: record of the training loss at each epoch\n",
    "hist = vae.fit_generator(generator=training_generator,\n",
    "                         validation_data=validation_generator,\n",
    "                         shuffle=True,\n",
    "                         epochs=epochs,\n",
    "                         callbacks=[WarmUpCallback(beta, kappa)])"
   ]
  },
  {
   "cell_type": "code",
   "execution_count": 7,
   "metadata": {
    "ExecuteTime": {
     "end_time": "2019-01-17T19:54:25.468056Z",
     "start_time": "2019-01-17T19:54:25.454251Z"
    }
   },
   "outputs": [],
   "source": [
    "# Trained model\n",
    "encoder = Model(rnaseq_input, z_mean_encoded)"
   ]
  },
  {
   "cell_type": "code",
   "execution_count": 8,
   "metadata": {
    "ExecuteTime": {
     "end_time": "2019-01-17T19:54:25.622644Z",
     "start_time": "2019-01-17T19:54:25.469349Z"
    }
   },
   "outputs": [
    {
     "data": {
      "image/png": "[encoded data removed]",
      "text/plain": [
       "<matplotlib.figure.Figure at 0x7f5bc4da1198>"
      ]
     },
     "metadata": {},
     "output_type": "display_data"
    }
   ],
   "source": [
    "# Visualize training performance\n",
    "history_df = pd.DataFrame(hist.history)\n",
    "#loss_df = pd.DataFrame(hist.history['loss'])\n",
    "#ax = loss_df.plot()\n",
    "ax = history_df.plot()\n",
    "ax.set_xlabel('Epochs')\n",
    "ax.set_ylabel('VAE Loss')\n",
    "fig = ax.get_figure()\n",
    "fig.savefig(hist_plot_file)"
   ]
  },
  {
   "cell_type": "code",
   "execution_count": 9,
   "metadata": {
    "ExecuteTime": {
     "end_time": "2019-01-17T19:54:25.711549Z",
     "start_time": "2019-01-17T19:54:25.624214Z"
    }
   },
   "outputs": [
    {
     "data": {
      "image/png": "[encoded data removed]",
      "text/plain": [
       "<matplotlib.figure.Figure at 0x7f5bb40df6d8>"
      ]
     },
     "metadata": {},
     "output_type": "display_data"
    }
   ],
   "source": [
    "loss = hist.history['loss']\n",
    "val_loss = hist.history['val_loss']\n",
    "epochs = range(epochs)\n",
    "plt.figure()\n",
    "plt.plot(epochs, loss, 'o', label='Training loss')\n",
    "#plt.plot(epochs, val_loss, 'b', label='Validation loss')\n",
    "plt.title('Training and validation loss')\n",
    "plt.legend()\n",
    "plt.show()"
   ]
  },
  {
   "cell_type": "code",
   "execution_count": 10,
   "metadata": {
    "ExecuteTime": {
     "end_time": "2019-01-17T19:54:25.805173Z",
     "start_time": "2019-01-17T19:54:25.712851Z"
    }
   },
   "outputs": [],
   "source": [
    "# Output\n",
    "\n",
    "# Save training performance\n",
    "history_df = pd.DataFrame(hist.history)\n",
    "history_df = history_df.assign(learning_rate=learning_rate)\n",
    "#history_df = history_df.assign(batch_size=batch_size)\n",
    "history_df = history_df.assign(epochs=epochs)\n",
    "history_df = history_df.assign(kappa=kappa)\n",
    "history_df.to_csv(stat_file, sep='\\t')\n",
    "\n",
    "# Save models\n",
    "# (source) https://machinelearningmastery.com/save-load-keras-deep-learning-models/\n",
    "\n",
    "# Save encoder model\n",
    "encoder.save(model_encoder_file)\n",
    "    \n",
    "# serialize weights to HDF5\n",
    "encoder.save_weights(weights_encoder_file)\n",
    "\n",
    "# Save decoder model\n",
    "# (source) https://github.com/greenelab/tybalt/blob/master/scripts/nbconverted/tybalt_vae.py\n",
    "decoder_input = Input(shape=(latent_dim, ))  # can generate from any sampled z vector\n",
    "_x_decoded_mean = decoder_model(decoder_input)\n",
    "decoder = Model(decoder_input, _x_decoded_mean)\n",
    "\n",
    "decoder.save(model_decoder_file)\n",
    "    \n",
    "# serialize weights to HDF5\n",
    "decoder.save_weights(weights_decoder_file)"
   ]
  }
 ],
 "metadata": {
  "kernelspec": {
   "display_name": "Python [conda env:Pa]",
   "language": "python",
   "name": "conda-env-Pa-py"
  },
  "language_info": {
   "codemirror_mode": {
    "name": "ipython",
    "version": 3
   },
   "file_extension": ".py",
   "mimetype": "text/x-python",
   "name": "python",
   "nbconvert_exporter": "python",
   "pygments_lexer": "ipython3",
   "version": "3.5.5"
  }
 },
 "nbformat": 4,
 "nbformat_minor": 2
}
