{
 "cells": [
  {
   "cell_type": "code",
   "execution_count": 1,
   "metadata": {
    "ExecuteTime": {
     "end_time": "2019-01-18T17:38:52.846470Z",
     "start_time": "2019-01-18T17:38:51.885119Z"
    }
   },
   "outputs": [
    {
     "name": "stderr",
     "output_type": "stream",
     "text": [
      "Using TensorFlow backend.\n"
     ]
    }
   ],
   "source": [
    "%load_ext autoreload\n",
    "%autoreload 2\n",
    "# -----------------------------------------------------------------------------------------------------------------------\n",
    "# By Alexandra Lee\n",
    "# (created December 2018) \n",
    "#\n",
    "# Encode Pseudomonas gene expression data into low dimensional latent space using \n",
    "# Tybalt with 2-hidden layers\n",
    "# \n",
    "# Note: Need to use python 3 to support '*' syntax change\n",
    "# --------------------------------------------------------------------------------------------------------------------\n",
    "import os\n",
    "import argparse\n",
    "import pandas as pd\n",
    "import matplotlib.pyplot as plt\n",
    "import tensorflow as tf\n",
    "import pickle\n",
    "from functions.my_classes import DataGenerator\n",
    "from functions.helper_ae import sampling_maker, CustomVariationalLayer, WarmUpCallback"
   ]
  },
  {
   "cell_type": "code",
   "execution_count": 2,
   "metadata": {
    "ExecuteTime": {
     "end_time": "2019-01-18T17:38:52.873870Z",
     "start_time": "2019-01-18T17:38:52.852568Z"
    }
   },
   "outputs": [],
   "source": [
    "# To ensure reproducibility using Keras during development\n",
    "# https://keras.io/getting-started/faq/#how-can-i-obtain-reproducible-results-using-keras-during-development\n",
    "import numpy as np\n",
    "import random as rn\n",
    "\n",
    "# The below is necessary in Python 3.2.3 onwards to\n",
    "# have reproducible behavior for certain hash-based operations.\n",
    "# See these references for further details:\n",
    "# https://docs.python.org/3.4/using/cmdline.html#envvar-PYTHONHASHSEED\n",
    "# https://github.com/keras-team/keras/issues/2280#issuecomment-306959926\n",
    "randomState = 123\n",
    "import os\n",
    "os.environ['PYTHONHASHSEED'] = '0'\n",
    "\n",
    "# The below is necessary for starting Numpy generated random numbers\n",
    "# in a well-defined initial state.\n",
    "\n",
    "np.random.seed(42)\n",
    "\n",
    "# The below is necessary for starting core Python generated random numbers\n",
    "# in a well-defined state.\n",
    "\n",
    "rn.seed(12345)\n",
    "\n",
    "# Force TensorFlow to use single thread.\n",
    "# Multiple threads are a potential source of\n",
    "# non-reproducible results.\n",
    "# For further details, see: https://stackoverflow.com/questions/42022950/which-seeds-have-to-be-set-where-to-realize-100-reproducibility-of-training-res\n",
    "\n",
    "session_conf = tf.ConfigProto(intra_op_parallelism_threads=1, inter_op_parallelism_threads=1)\n",
    "\n",
    "from keras import backend as K\n",
    "\n",
    "# The below tf.set_random_seed() will make random number generation\n",
    "# in the TensorFlow backend have a well-defined initial state.\n",
    "# For further details, see: https://www.tensorflow.org/api_docs/python/tf/set_random_seed\n",
    "\n",
    "tf.set_random_seed(1234)\n",
    "\n",
    "sess = tf.Session(graph=tf.get_default_graph(), config=session_conf)\n",
    "K.set_session(sess)\n",
    "\n",
    "import keras\n",
    "from keras.layers import Input, Dense, Lambda, Layer, Activation\n",
    "from keras.layers.normalization import BatchNormalization\n",
    "from keras.models import Model, Sequential\n",
    "from keras import metrics, optimizers\n",
    "from keras.callbacks import Callback"
   ]
  },
  {
   "cell_type": "code",
   "execution_count": 3,
   "metadata": {
    "ExecuteTime": {
     "end_time": "2019-01-18T17:38:52.913474Z",
     "start_time": "2019-01-18T17:38:52.875652Z"
    }
   },
   "outputs": [],
   "source": [
    "# --------------------------------------------------------------------------------------------------------------------\n",
    "# Initialize hyper parameters\n",
    "#\n",
    "# learning rate: \n",
    "# batch size: Total number of training examples present in a single batch\n",
    "#             Iterations is the number of batches needed to complete one epoch\n",
    "# epochs: One Epoch is when an ENTIRE dataset is passed forward and backward through the neural network only ONCE\n",
    "# kappa: warmup\n",
    "# original dim: dimensions of the raw data\n",
    "# latent dim: dimensiosn of the latent space (fixed by the user)\n",
    "#   Note: intrinsic latent space dimension unknown\n",
    "# epsilon std: \n",
    "# beta: Threshold value for ReLU?\n",
    "# --------------------------------------------------------------------------------------------------------------------\n",
    "\n",
    "learning_rate = 0.00001\n",
    "epochs = 50\n",
    "kappa = 0.01\n",
    "\n",
    "intermediate_dim = 500\n",
    "latent_dim = 100\n",
    "epsilon_std = 1.0\n",
    "beta = K.variable(0)\n",
    "\n",
    "chunk_size = 100\n",
    "num_samples_train = 1319122\n",
    "num_samples_val = 1319\n",
    "\n",
    "\n",
    "train_file =  \"/home/alexandra/Documents/Data/LINCS/train_model_input.txt.xz\"\n",
    "validation_file = \"/home/alexandra/Documents/Data/LINCS/validation_model_input.txt.xz\"\n",
    "\n",
    "stat_file =  os.path.join(os.path.dirname(os.getcwd()), \"stats\", \"tybalt_2layer_{}latent_stats.tsv\".format(latent_dim))\n",
    "hist_plot_file = os.path.join(os.path.dirname(os.getcwd()), \"stats\", \"tybalt_2layer_{}latent_hist.png\".format(latent_dim))\n",
    "\n",
    "encoded_file = os.path.join(os.path.dirname(os.getcwd()), \"encoded\", \"train_input_2layer_{}latent_encoded.txt\".format(latent_dim))\n",
    "\n",
    "model_encoder_file = os.path.join(os.path.dirname(os.getcwd()), \"models\", \"tybalt_2layer_{}latent_encoder_model.h5\".format(latent_dim))\n",
    "weights_encoder_file = os.path.join(os.path.dirname(os.getcwd()), \"models\", \"tybalt_2layer_{}latent_encoder_weights.h5\".format(latent_dim))\n",
    "model_decoder_file = os.path.join(os.path.dirname(os.getcwd()), \"models\", \"tybalt_2layer_{}latent_decoder_model.h5\".format(latent_dim))\n",
    "weights_decoder_file = os.path.join(os.path.dirname(os.getcwd()), \"models\", \"tybalt_2layer_{}latent_decoder_weights.h5\".format(latent_dim))"
   ]
  },
  {
   "cell_type": "code",
   "execution_count": 4,
   "metadata": {
    "ExecuteTime": {
     "end_time": "2019-01-18T17:38:52.954870Z",
     "start_time": "2019-01-18T17:38:52.914744Z"
    }
   },
   "outputs": [],
   "source": [
    "# Generators\n",
    "training_generator = DataGenerator(train_file, chunk_size, num_samples_train)\n",
    "validation_generator = DataGenerator(validation_file, chunk_size, num_samples_val)"
   ]
  },
  {
   "cell_type": "code",
   "execution_count": 5,
   "metadata": {
    "ExecuteTime": {
     "end_time": "2019-01-18T17:38:53.313542Z",
     "start_time": "2019-01-18T17:38:52.957931Z"
    }
   },
   "outputs": [
    {
     "name": "stderr",
     "output_type": "stream",
     "text": [
      "/home/alexandra/anaconda3/envs/Pa/lib/python3.5/site-packages/ipykernel/__main__.py:81: UserWarning: Output \"custom_variational_layer_1\" missing from loss dictionary. We assume this was done on purpose, and we will not be expecting any data to be passed to \"custom_variational_layer_1\" during training.\n"
     ]
    }
   ],
   "source": [
    "# Architecture of VAE\n",
    "dim_file =  os.path.join(os.path.dirname(os.getcwd()), \"metadata\", \"validation_dim.pickle\")\n",
    "\n",
    "with open(dim_file, 'rb') as f:\n",
    "    num_samples, num_genes = pickle.load(f)\n",
    "\n",
    "original_dim = num_genes\n",
    "rnaseq_input = Input(shape=(original_dim, ))\n",
    "\n",
    "# Encoder\n",
    "\n",
    "# Input layer is compressed into a mean and log variance vector of size\n",
    "# `latent_dim`. Each layer is initialized with glorot uniform weights and each\n",
    "# step (dense connections, batch norm,and relu activation) are funneled\n",
    "# separately\n",
    "# Each vector of length `latent_dim` are connected to the rnaseq input tensor\n",
    "\n",
    "# \"z_mean_dense_linear\" is the encoded representation of the input\n",
    "#    Take as input arrays of shape (*, original dim) and output arrays of shape (*, latent dim)\n",
    "#    Combine input from previous layer using linear summ\n",
    "# Normalize the activations (combined weighted nodes of the previous layer)\n",
    "#   Transformation that maintains the mean activation close to 0 and the activation standard deviation close to 1.\n",
    "# Apply ReLU activation function to combine weighted nodes from previous layer\n",
    "#   relu = threshold cutoff (cutoff value will be learned)\n",
    "#   ReLU function filters noise\n",
    "\n",
    "# X is encoded using Q(z|X) to yield mu(X), sigma(X) that describes latent space distribution\n",
    "hidden_dense_linear = Dense(intermediate_dim, kernel_initializer='glorot_uniform')(rnaseq_input)\n",
    "hidden_dense_batchnorm = BatchNormalization()(hidden_dense_linear)\n",
    "hidden_encoded = Activation('relu')(hidden_dense_batchnorm)\n",
    "\n",
    "# Note:\n",
    "# Normalize and relu filter at each layer adds non-linear component (relu is non-linear function)\n",
    "# If architecture is layer-layer-normalization-relu then the computation is still linear\n",
    "# Add additional layers in triplicate\n",
    "z_mean_dense_linear = Dense(latent_dim, kernel_initializer='glorot_uniform')(hidden_encoded)\n",
    "z_mean_dense_batchnorm = BatchNormalization()(z_mean_dense_linear)\n",
    "z_mean_encoded = Activation('relu')(z_mean_dense_batchnorm)\n",
    "\n",
    "z_log_var_dense_linear = Dense(latent_dim, kernel_initializer='glorot_uniform')(rnaseq_input)\n",
    "z_log_var_dense_batchnorm = BatchNormalization()(z_log_var_dense_linear)\n",
    "z_log_var_encoded = Activation('relu')(z_log_var_dense_batchnorm)\n",
    "\n",
    "# Customized layer\n",
    "# Returns the encoded and randomly sampled z vector\n",
    "# Takes two keras layers as input to the custom sampling function layer with a\n",
    "# latent_dim` output\n",
    "#\n",
    "# sampling():\n",
    "# randomly sample similar points z from the latent normal distribution that is assumed to generate the data,\n",
    "# via z = z_mean + exp(z_log_sigma) * epsilon, where epsilon is a random normal tensor\n",
    "# z ~ Q(z|X)\n",
    "# Note: there is a trick to reparameterize to standard normal distribution so that the space is differentiable and \n",
    "# therefore gradient descent can be used\n",
    "#\n",
    "# Returns the encoded and randomly sampled z vector\n",
    "# Takes two keras layers as input to the custom sampling function layer with a\n",
    "# latent_dim` output\n",
    "#z = Lambda(sampling,\n",
    "#           output_shape=(latent_dim, ))([z_mean_encoded, z_log_var_encoded])\n",
    "z = Lambda(sampling_maker(epsilon_std),\n",
    "               output_shape=(latent_dim, ))([z_mean_encoded, z_log_var_encoded])\n",
    "\n",
    "# Decoder\n",
    "\n",
    "# The decoding layer is much simpler with a single layer glorot uniform\n",
    "# initialized and sigmoid activation\n",
    "# Reconstruct P(X|z)\n",
    "decoder_model = Sequential()\n",
    "decoder_model.add(Dense(intermediate_dim, activation='relu', input_dim=latent_dim))\n",
    "decoder_model.add(Dense(original_dim, activation='sigmoid'))\n",
    "rnaseq_reconstruct = decoder_model(z)\n",
    "\n",
    "\n",
    "# Connections\n",
    "# fully-connected network\n",
    "adam = optimizers.Adam(lr=learning_rate)\n",
    "vae_layer = CustomVariationalLayer(original_dim, z_log_var_encoded, z_mean_encoded, beta)([\n",
    "        rnaseq_input, rnaseq_reconstruct])\n",
    "vae = Model(rnaseq_input, vae_layer)\n",
    "vae.compile(optimizer=adam, loss=None, loss_weights=[beta])"
   ]
  },
  {
   "cell_type": "code",
   "execution_count": 6,
   "metadata": {
    "ExecuteTime": {
     "end_time": "2019-01-19T06:21:37.266661Z",
     "start_time": "2019-01-18T17:38:53.314696Z"
    },
    "scrolled": true
   },
   "outputs": [
    {
     "name": "stdout",
     "output_type": "stream",
     "text": [
      "Epoch 1/50\n",
      "13191/13191 [==============================] - 944s 72ms/step - loss: 646.6760 - val_loss: 680.2901\n",
      "Epoch 2/50\n",
      "13191/13191 [==============================] - 946s 72ms/step - loss: 640.1302 - val_loss: 653.3529\n",
      "Epoch 3/50\n",
      "13191/13191 [==============================] - 943s 71ms/step - loss: 638.8026 - val_loss: 645.9727\n",
      "Epoch 4/50\n",
      "13191/13191 [==============================] - 965s 73ms/step - loss: 638.0016 - val_loss: 642.2186\n",
      "Epoch 5/50\n",
      "13191/13191 [==============================] - 939s 71ms/step - loss: 637.3992 - val_loss: 640.3881\n",
      "Epoch 6/50\n",
      "13191/13191 [==============================] - 939s 71ms/step - loss: 636.8719 - val_loss: 640.0148\n",
      "Epoch 7/50\n",
      "13191/13191 [==============================] - 940s 71ms/step - loss: 636.3648 - val_loss: 639.8413\n",
      "Epoch 8/50\n",
      "13191/13191 [==============================] - 940s 71ms/step - loss: 635.8553 - val_loss: 639.8645\n",
      "Epoch 9/50\n",
      "13191/13191 [==============================] - 935s 71ms/step - loss: 635.3495 - val_loss: 639.9540\n",
      "Epoch 10/50\n",
      "13191/13191 [==============================] - 918s 70ms/step - loss: 634.7918 - val_loss: 639.7934\n",
      "Epoch 11/50\n",
      "13191/13191 [==============================] - 919s 70ms/step - loss: 634.2103 - val_loss: 639.5780\n",
      "Epoch 12/50\n",
      "13191/13191 [==============================] - 920s 70ms/step - loss: 633.6911 - val_loss: 639.7411\n",
      "Epoch 13/50\n",
      "13191/13191 [==============================] - 919s 70ms/step - loss: 633.2229 - val_loss: 640.0801\n",
      "Epoch 14/50\n",
      "13191/13191 [==============================] - 920s 70ms/step - loss: 632.7804 - val_loss: 639.8378\n",
      "Epoch 15/50\n",
      "13191/13191 [==============================] - 945s 72ms/step - loss: 632.3545 - val_loss: 639.3673\n",
      "Epoch 16/50\n",
      "13191/13191 [==============================] - 966s 73ms/step - loss: 631.9523 - val_loss: 638.8094\n",
      "Epoch 17/50\n",
      "13191/13191 [==============================] - 938s 71ms/step - loss: 631.5904 - val_loss: 638.1857\n",
      "Epoch 18/50\n",
      "13191/13191 [==============================] - 914s 69ms/step - loss: 631.2563 - val_loss: 637.5083\n",
      "Epoch 19/50\n",
      "13191/13191 [==============================] - 940s 71ms/step - loss: 630.9476 - val_loss: 637.1200\n",
      "Epoch 20/50\n",
      "13191/13191 [==============================] - 909s 69ms/step - loss: 630.6592 - val_loss: 636.9993\n",
      "Epoch 21/50\n",
      "13191/13191 [==============================] - 947s 72ms/step - loss: 630.3793 - val_loss: 636.6850\n",
      "Epoch 22/50\n",
      "13191/13191 [==============================] - 925s 70ms/step - loss: 630.1147 - val_loss: 635.3670\n",
      "Epoch 23/50\n",
      "13191/13191 [==============================] - 920s 70ms/step - loss: 629.8658 - val_loss: 634.1082\n",
      "Epoch 24/50\n",
      "13191/13191 [==============================] - 901s 68ms/step - loss: 629.6224 - val_loss: 633.2486\n",
      "Epoch 25/50\n",
      "13191/13191 [==============================] - 905s 69ms/step - loss: 629.4021 - val_loss: 633.4135\n",
      "Epoch 26/50\n",
      "13191/13191 [==============================] - 900s 68ms/step - loss: 629.1707 - val_loss: 633.2558\n",
      "Epoch 27/50\n",
      "13191/13191 [==============================] - 898s 68ms/step - loss: 628.9676 - val_loss: 632.8865\n",
      "Epoch 28/50\n",
      "13191/13191 [==============================] - 898s 68ms/step - loss: 628.7743 - val_loss: 632.6557\n",
      "Epoch 29/50\n",
      "13191/13191 [==============================] - 899s 68ms/step - loss: 628.5827 - val_loss: 631.6159\n",
      "Epoch 30/50\n",
      "13191/13191 [==============================] - 899s 68ms/step - loss: 628.3991 - val_loss: 631.0862\n",
      "Epoch 31/50\n",
      "13191/13191 [==============================] - 900s 68ms/step - loss: 628.2327 - val_loss: 630.8109\n",
      "Epoch 32/50\n",
      "13191/13191 [==============================] - 900s 68ms/step - loss: 628.0751 - val_loss: 630.5242\n",
      "Epoch 33/50\n",
      "13191/13191 [==============================] - 899s 68ms/step - loss: 627.9270 - val_loss: 630.3970\n",
      "Epoch 34/50\n",
      "13191/13191 [==============================] - 899s 68ms/step - loss: 627.7912 - val_loss: 630.3404\n",
      "Epoch 35/50\n",
      "13191/13191 [==============================] - 899s 68ms/step - loss: 627.6674 - val_loss: 630.0719\n",
      "Epoch 36/50\n",
      "13191/13191 [==============================] - 900s 68ms/step - loss: 627.5375 - val_loss: 630.0128\n",
      "Epoch 37/50\n",
      "13191/13191 [==============================] - 900s 68ms/step - loss: 627.4175 - val_loss: 629.9759\n",
      "Epoch 38/50\n",
      "13191/13191 [==============================] - 899s 68ms/step - loss: 627.3049 - val_loss: 630.0886\n",
      "Epoch 39/50\n",
      "13191/13191 [==============================] - 898s 68ms/step - loss: 627.1984 - val_loss: 630.0766\n",
      "Epoch 40/50\n",
      "13191/13191 [==============================] - 898s 68ms/step - loss: 627.0965 - val_loss: 630.2500\n",
      "Epoch 41/50\n",
      "13191/13191 [==============================] - 898s 68ms/step - loss: 626.9991 - val_loss: 630.2636\n",
      "Epoch 42/50\n",
      "13191/13191 [==============================] - 898s 68ms/step - loss: 626.9142 - val_loss: 630.0115\n",
      "Epoch 43/50\n",
      "13191/13191 [==============================] - 898s 68ms/step - loss: 626.8133 - val_loss: 629.2599\n",
      "Epoch 44/50\n",
      "13191/13191 [==============================] - 898s 68ms/step - loss: 626.7274 - val_loss: 629.0122\n",
      "Epoch 45/50\n",
      "13191/13191 [==============================] - 898s 68ms/step - loss: 626.6434 - val_loss: 629.0242\n",
      "Epoch 46/50\n",
      "13191/13191 [==============================] - 899s 68ms/step - loss: 626.5648 - val_loss: 629.1403\n",
      "Epoch 47/50\n",
      "13191/13191 [==============================] - 898s 68ms/step - loss: 626.4910 - val_loss: 629.1572\n",
      "Epoch 48/50\n",
      "13191/13191 [==============================] - 899s 68ms/step - loss: 626.4154 - val_loss: 629.0792\n",
      "Epoch 49/50\n",
      "13191/13191 [==============================] - 898s 68ms/step - loss: 626.3435 - val_loss: 628.9087\n",
      "Epoch 50/50\n",
      "13191/13191 [==============================] - 899s 68ms/step - loss: 626.2799 - val_loss: 628.8873\n",
      "CPU times: user 20h 45min 54s, sys: 6min 49s, total: 20h 52min 44s\n",
      "Wall time: 12h 42min 43s\n"
     ]
    }
   ],
   "source": [
    "%%time\n",
    "# Training\n",
    "# hist: record of the training loss at each epoch\n",
    "hist = vae.fit_generator(generator=training_generator,\n",
    "                         validation_data=validation_generator,\n",
    "                         shuffle=True,\n",
    "                         epochs=epochs,\n",
    "                         callbacks=[WarmUpCallback(beta, kappa)])"
   ]
  },
  {
   "cell_type": "code",
   "execution_count": 7,
   "metadata": {
    "ExecuteTime": {
     "end_time": "2019-01-19T06:21:37.304442Z",
     "start_time": "2019-01-19T06:21:37.268716Z"
    }
   },
   "outputs": [],
   "source": [
    "# Trained model\n",
    "encoder = Model(rnaseq_input, z_mean_encoded)"
   ]
  },
  {
   "cell_type": "code",
   "execution_count": 8,
   "metadata": {
    "ExecuteTime": {
     "end_time": "2019-01-19T06:21:37.508215Z",
     "start_time": "2019-01-19T06:21:37.305568Z"
    }
   },
   "outputs": [
    {
     "data": {
      "image/png": "[encoded data removed]",
      "text/plain": [
       "<matplotlib.figure.Figure at 0x7f3b0c8dbe80>"
      ]
     },
     "metadata": {},
     "output_type": "display_data"
    }
   ],
   "source": [
    "# Visualize training performance\n",
    "history_df = pd.DataFrame(hist.history)\n",
    "#loss_df = pd.DataFrame(hist.history['loss'])\n",
    "#ax = loss_df.plot()\n",
    "ax = history_df.plot()\n",
    "ax.set_xlabel('Epochs')\n",
    "ax.set_ylabel('VAE Loss')\n",
    "fig = ax.get_figure()\n",
    "fig.savefig(hist_plot_file)"
   ]
  },
  {
   "cell_type": "code",
   "execution_count": 9,
   "metadata": {
    "ExecuteTime": {
     "end_time": "2019-01-19T06:21:37.595252Z",
     "start_time": "2019-01-19T06:21:37.509576Z"
    }
   },
   "outputs": [
    {
     "data": {
      "image/png": "[encoded data removed]",
      "text/plain": [
       "<matplotlib.figure.Figure at 0x7f3b043cb6d8>"
      ]
     },
     "metadata": {},
     "output_type": "display_data"
    }
   ],
   "source": [
    "loss = hist.history['loss']\n",
    "val_loss = hist.history['val_loss']\n",
    "epochs = range(epochs)\n",
    "plt.figure()\n",
    "plt.plot(epochs, loss, 'o', label='Training loss')\n",
    "#plt.plot(epochs, val_loss, 'b', label='Validation loss')\n",
    "plt.title('Training and validation loss')\n",
    "plt.legend()\n",
    "plt.show()"
   ]
  },
  {
   "cell_type": "code",
   "execution_count": 10,
   "metadata": {
    "ExecuteTime": {
     "end_time": "2019-01-19T06:21:37.679236Z",
     "start_time": "2019-01-19T06:21:37.596612Z"
    }
   },
   "outputs": [],
   "source": [
    "# Output\n",
    "\n",
    "# Save training performance\n",
    "history_df = pd.DataFrame(hist.history)\n",
    "history_df = history_df.assign(learning_rate=learning_rate)\n",
    "#history_df = history_df.assign(batch_size=batch_size)\n",
    "history_df = history_df.assign(epochs=epochs)\n",
    "history_df = history_df.assign(kappa=kappa)\n",
    "history_df.to_csv(stat_file, sep='\\t')\n",
    "\n",
    "# Save models\n",
    "# (source) https://machinelearningmastery.com/save-load-keras-deep-learning-models/\n",
    "\n",
    "# Save encoder model\n",
    "encoder.save(model_encoder_file)\n",
    "    \n",
    "# serialize weights to HDF5\n",
    "encoder.save_weights(weights_encoder_file)\n",
    "\n",
    "# Save decoder model\n",
    "# (source) https://github.com/greenelab/tybalt/blob/master/scripts/nbconverted/tybalt_vae.py\n",
    "decoder_input = Input(shape=(latent_dim, ))  # can generate from any sampled z vector\n",
    "_x_decoded_mean = decoder_model(decoder_input)\n",
    "decoder = Model(decoder_input, _x_decoded_mean)\n",
    "\n",
    "decoder.save(model_decoder_file)\n",
    "    \n",
    "# serialize weights to HDF5\n",
    "decoder.save_weights(weights_decoder_file)"
   ]
  }
 ],
 "metadata": {
  "kernelspec": {
   "display_name": "Python [conda env:Pa]",
   "language": "python",
   "name": "conda-env-Pa-py"
  },
  "language_info": {
   "codemirror_mode": {
    "name": "ipython",
    "version": 3
   },
   "file_extension": ".py",
   "mimetype": "text/x-python",
   "name": "python",
   "nbconvert_exporter": "python",
   "pygments_lexer": "ipython3",
   "version": "3.5.5"
  }
 },
 "nbformat": 4,
 "nbformat_minor": 2
}
