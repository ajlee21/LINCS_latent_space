{
 "cells": [
  {
   "cell_type": "code",
   "execution_count": 1,
   "metadata": {
    "ExecuteTime": {
     "end_time": "2019-01-08T17:02:30.566594Z",
     "start_time": "2019-01-08T17:02:30.259672Z"
    }
   },
   "outputs": [],
   "source": [
    "# -----------------------------------------------------------------------------------------------------------------------\n",
    "# Alexandra Lee \n",
    "# (created January 2019) \n",
    "#\n",
    "# Parse metadata to determine if there are sufficient samples with multiple \n",
    "# dose concentrations to train autencoder\n",
    "# -------------------------------------------------------------------------------------------------------------------\n",
    "import pandas as pd\n",
    "import os\n",
    "import numpy as np\n",
    "\n",
    "import sys\n",
    "from cmapPy.pandasGEXpress.parse import parse\n",
    "\n",
    "randomState = 123\n",
    "from numpy.random import seed\n",
    "seed(randomState)"
   ]
  },
  {
   "cell_type": "code",
   "execution_count": 2,
   "metadata": {
    "ExecuteTime": {
     "end_time": "2019-01-08T17:02:30.575318Z",
     "start_time": "2019-01-08T17:02:30.570536Z"
    }
   },
   "outputs": [],
   "source": [
    "# Load arguments\n",
    "metadata_file = os.path.join(os.path.dirname(os.getcwd()), \"metadata\",\"GSE92742_Broad_LINCS_inst_info.txt\")"
   ]
  },
  {
   "cell_type": "code",
   "execution_count": 3,
   "metadata": {
    "ExecuteTime": {
     "end_time": "2019-01-08T17:02:32.604641Z",
     "start_time": "2019-01-08T17:02:30.578961Z"
    }
   },
   "outputs": [
    {
     "data": {
      "text/html": [
       "<div>\n",
       "<style>\n",
       "    .dataframe thead tr:only-child th {\n",
       "        text-align: right;\n",
       "    }\n",
       "\n",
       "    .dataframe thead th {\n",
       "        text-align: left;\n",
       "    }\n",
       "\n",
       "    .dataframe tbody tr th {\n",
       "        vertical-align: top;\n",
       "    }\n",
       "</style>\n",
       "<table border=\"1\" class=\"dataframe\">\n",
       "  <thead>\n",
       "    <tr style=\"text-align: right;\">\n",
       "      <th></th>\n",
       "      <th>rna_plate</th>\n",
       "      <th>rna_well</th>\n",
       "      <th>pert_id</th>\n",
       "      <th>pert_iname</th>\n",
       "      <th>pert_type</th>\n",
       "      <th>pert_dose</th>\n",
       "      <th>pert_dose_unit</th>\n",
       "      <th>pert_time</th>\n",
       "      <th>pert_time_unit</th>\n",
       "      <th>cell_id</th>\n",
       "    </tr>\n",
       "    <tr>\n",
       "      <th>inst_id</th>\n",
       "      <th></th>\n",
       "      <th></th>\n",
       "      <th></th>\n",
       "      <th></th>\n",
       "      <th></th>\n",
       "      <th></th>\n",
       "      <th></th>\n",
       "      <th></th>\n",
       "      <th></th>\n",
       "      <th></th>\n",
       "    </tr>\n",
       "  </thead>\n",
       "  <tbody>\n",
       "    <tr>\n",
       "      <th>ASG001_MCF7_24H_X1_B7_DUO52HI53LO:F13</th>\n",
       "      <td>ASG001_MCF7_24H_X1</td>\n",
       "      <td>F13</td>\n",
       "      <td>DMSO</td>\n",
       "      <td>DMSO</td>\n",
       "      <td>ctl_vehicle</td>\n",
       "      <td>0.1</td>\n",
       "      <td>%</td>\n",
       "      <td>24</td>\n",
       "      <td>h</td>\n",
       "      <td>MCF7</td>\n",
       "    </tr>\n",
       "    <tr>\n",
       "      <th>ASG001_MCF7_24H_X1_B7_DUO52HI53LO:G13</th>\n",
       "      <td>ASG001_MCF7_24H_X1</td>\n",
       "      <td>G13</td>\n",
       "      <td>DMSO</td>\n",
       "      <td>DMSO</td>\n",
       "      <td>ctl_vehicle</td>\n",
       "      <td>0.1</td>\n",
       "      <td>%</td>\n",
       "      <td>24</td>\n",
       "      <td>h</td>\n",
       "      <td>MCF7</td>\n",
       "    </tr>\n",
       "    <tr>\n",
       "      <th>ASG001_MCF7_24H_X1_B7_DUO52HI53LO:I13</th>\n",
       "      <td>ASG001_MCF7_24H_X1</td>\n",
       "      <td>I13</td>\n",
       "      <td>DMSO</td>\n",
       "      <td>DMSO</td>\n",
       "      <td>ctl_vehicle</td>\n",
       "      <td>0.1</td>\n",
       "      <td>%</td>\n",
       "      <td>24</td>\n",
       "      <td>h</td>\n",
       "      <td>MCF7</td>\n",
       "    </tr>\n",
       "    <tr>\n",
       "      <th>ASG001_MCF7_24H_X1_B7_DUO52HI53LO:K13</th>\n",
       "      <td>ASG001_MCF7_24H_X1</td>\n",
       "      <td>K13</td>\n",
       "      <td>DMSO</td>\n",
       "      <td>DMSO</td>\n",
       "      <td>ctl_vehicle</td>\n",
       "      <td>0.1</td>\n",
       "      <td>%</td>\n",
       "      <td>24</td>\n",
       "      <td>h</td>\n",
       "      <td>MCF7</td>\n",
       "    </tr>\n",
       "    <tr>\n",
       "      <th>ASG001_MCF7_24H_X1_B7_DUO52HI53LO:N13</th>\n",
       "      <td>ASG001_MCF7_24H_X1</td>\n",
       "      <td>N13</td>\n",
       "      <td>DMSO</td>\n",
       "      <td>DMSO</td>\n",
       "      <td>ctl_vehicle</td>\n",
       "      <td>0.1</td>\n",
       "      <td>%</td>\n",
       "      <td>24</td>\n",
       "      <td>h</td>\n",
       "      <td>MCF7</td>\n",
       "    </tr>\n",
       "    <tr>\n",
       "      <th>ASG001_MCF7_24H_X1_B7_DUO52HI53LO:P08</th>\n",
       "      <td>ASG001_MCF7_24H_X1</td>\n",
       "      <td>P08</td>\n",
       "      <td>DMSO</td>\n",
       "      <td>DMSO</td>\n",
       "      <td>ctl_vehicle</td>\n",
       "      <td>0.1</td>\n",
       "      <td>%</td>\n",
       "      <td>24</td>\n",
       "      <td>h</td>\n",
       "      <td>MCF7</td>\n",
       "    </tr>\n",
       "    <tr>\n",
       "      <th>ASG001_MCF7_24H_X1_B7_DUO52HI53LO:P12</th>\n",
       "      <td>ASG001_MCF7_24H_X1</td>\n",
       "      <td>P12</td>\n",
       "      <td>DMSO</td>\n",
       "      <td>DMSO</td>\n",
       "      <td>ctl_vehicle</td>\n",
       "      <td>0.1</td>\n",
       "      <td>%</td>\n",
       "      <td>24</td>\n",
       "      <td>h</td>\n",
       "      <td>MCF7</td>\n",
       "    </tr>\n",
       "    <tr>\n",
       "      <th>ASG001_MCF7_24H_X1_B7_DUO52HI53LO:P17</th>\n",
       "      <td>ASG001_MCF7_24H_X1</td>\n",
       "      <td>P17</td>\n",
       "      <td>DMSO</td>\n",
       "      <td>DMSO</td>\n",
       "      <td>ctl_vehicle</td>\n",
       "      <td>0.1</td>\n",
       "      <td>%</td>\n",
       "      <td>24</td>\n",
       "      <td>h</td>\n",
       "      <td>MCF7</td>\n",
       "    </tr>\n",
       "    <tr>\n",
       "      <th>ASG001_MCF7_24H_X1_B7_DUO52HI53LO:P18</th>\n",
       "      <td>ASG001_MCF7_24H_X1</td>\n",
       "      <td>P18</td>\n",
       "      <td>DMSO</td>\n",
       "      <td>DMSO</td>\n",
       "      <td>ctl_vehicle</td>\n",
       "      <td>0.1</td>\n",
       "      <td>%</td>\n",
       "      <td>24</td>\n",
       "      <td>h</td>\n",
       "      <td>MCF7</td>\n",
       "    </tr>\n",
       "    <tr>\n",
       "      <th>ASG001_MCF7_24H_X1_B7_DUO52HI53LO:P19</th>\n",
       "      <td>ASG001_MCF7_24H_X1</td>\n",
       "      <td>P19</td>\n",
       "      <td>DMSO</td>\n",
       "      <td>DMSO</td>\n",
       "      <td>ctl_vehicle</td>\n",
       "      <td>0.1</td>\n",
       "      <td>%</td>\n",
       "      <td>24</td>\n",
       "      <td>h</td>\n",
       "      <td>MCF7</td>\n",
       "    </tr>\n",
       "  </tbody>\n",
       "</table>\n",
       "</div>"
      ],
      "text/plain": [
       "                                                rna_plate rna_well pert_id  \\\n",
       "inst_id                                                                      \n",
       "ASG001_MCF7_24H_X1_B7_DUO52HI53LO:F13  ASG001_MCF7_24H_X1      F13    DMSO   \n",
       "ASG001_MCF7_24H_X1_B7_DUO52HI53LO:G13  ASG001_MCF7_24H_X1      G13    DMSO   \n",
       "ASG001_MCF7_24H_X1_B7_DUO52HI53LO:I13  ASG001_MCF7_24H_X1      I13    DMSO   \n",
       "ASG001_MCF7_24H_X1_B7_DUO52HI53LO:K13  ASG001_MCF7_24H_X1      K13    DMSO   \n",
       "ASG001_MCF7_24H_X1_B7_DUO52HI53LO:N13  ASG001_MCF7_24H_X1      N13    DMSO   \n",
       "ASG001_MCF7_24H_X1_B7_DUO52HI53LO:P08  ASG001_MCF7_24H_X1      P08    DMSO   \n",
       "ASG001_MCF7_24H_X1_B7_DUO52HI53LO:P12  ASG001_MCF7_24H_X1      P12    DMSO   \n",
       "ASG001_MCF7_24H_X1_B7_DUO52HI53LO:P17  ASG001_MCF7_24H_X1      P17    DMSO   \n",
       "ASG001_MCF7_24H_X1_B7_DUO52HI53LO:P18  ASG001_MCF7_24H_X1      P18    DMSO   \n",
       "ASG001_MCF7_24H_X1_B7_DUO52HI53LO:P19  ASG001_MCF7_24H_X1      P19    DMSO   \n",
       "\n",
       "                                      pert_iname    pert_type pert_dose  \\\n",
       "inst_id                                                                   \n",
       "ASG001_MCF7_24H_X1_B7_DUO52HI53LO:F13       DMSO  ctl_vehicle       0.1   \n",
       "ASG001_MCF7_24H_X1_B7_DUO52HI53LO:G13       DMSO  ctl_vehicle       0.1   \n",
       "ASG001_MCF7_24H_X1_B7_DUO52HI53LO:I13       DMSO  ctl_vehicle       0.1   \n",
       "ASG001_MCF7_24H_X1_B7_DUO52HI53LO:K13       DMSO  ctl_vehicle       0.1   \n",
       "ASG001_MCF7_24H_X1_B7_DUO52HI53LO:N13       DMSO  ctl_vehicle       0.1   \n",
       "ASG001_MCF7_24H_X1_B7_DUO52HI53LO:P08       DMSO  ctl_vehicle       0.1   \n",
       "ASG001_MCF7_24H_X1_B7_DUO52HI53LO:P12       DMSO  ctl_vehicle       0.1   \n",
       "ASG001_MCF7_24H_X1_B7_DUO52HI53LO:P17       DMSO  ctl_vehicle       0.1   \n",
       "ASG001_MCF7_24H_X1_B7_DUO52HI53LO:P18       DMSO  ctl_vehicle       0.1   \n",
       "ASG001_MCF7_24H_X1_B7_DUO52HI53LO:P19       DMSO  ctl_vehicle       0.1   \n",
       "\n",
       "                                      pert_dose_unit pert_time pert_time_unit  \\\n",
       "inst_id                                                                         \n",
       "ASG001_MCF7_24H_X1_B7_DUO52HI53LO:F13              %        24              h   \n",
       "ASG001_MCF7_24H_X1_B7_DUO52HI53LO:G13              %        24              h   \n",
       "ASG001_MCF7_24H_X1_B7_DUO52HI53LO:I13              %        24              h   \n",
       "ASG001_MCF7_24H_X1_B7_DUO52HI53LO:K13              %        24              h   \n",
       "ASG001_MCF7_24H_X1_B7_DUO52HI53LO:N13              %        24              h   \n",
       "ASG001_MCF7_24H_X1_B7_DUO52HI53LO:P08              %        24              h   \n",
       "ASG001_MCF7_24H_X1_B7_DUO52HI53LO:P12              %        24              h   \n",
       "ASG001_MCF7_24H_X1_B7_DUO52HI53LO:P17              %        24              h   \n",
       "ASG001_MCF7_24H_X1_B7_DUO52HI53LO:P18              %        24              h   \n",
       "ASG001_MCF7_24H_X1_B7_DUO52HI53LO:P19              %        24              h   \n",
       "\n",
       "                                      cell_id  \n",
       "inst_id                                        \n",
       "ASG001_MCF7_24H_X1_B7_DUO52HI53LO:F13    MCF7  \n",
       "ASG001_MCF7_24H_X1_B7_DUO52HI53LO:G13    MCF7  \n",
       "ASG001_MCF7_24H_X1_B7_DUO52HI53LO:I13    MCF7  \n",
       "ASG001_MCF7_24H_X1_B7_DUO52HI53LO:K13    MCF7  \n",
       "ASG001_MCF7_24H_X1_B7_DUO52HI53LO:N13    MCF7  \n",
       "ASG001_MCF7_24H_X1_B7_DUO52HI53LO:P08    MCF7  \n",
       "ASG001_MCF7_24H_X1_B7_DUO52HI53LO:P12    MCF7  \n",
       "ASG001_MCF7_24H_X1_B7_DUO52HI53LO:P17    MCF7  \n",
       "ASG001_MCF7_24H_X1_B7_DUO52HI53LO:P18    MCF7  \n",
       "ASG001_MCF7_24H_X1_B7_DUO52HI53LO:P19    MCF7  "
      ]
     },
     "execution_count": 3,
     "metadata": {},
     "output_type": "execute_result"
    }
   ],
   "source": [
    "# Read metadata\n",
    "metadata = pd.read_csv(metadata_file, sep=\"\\t\", index_col=0, dtype=str)\n",
    "metadata.head(10)"
   ]
  },
  {
   "cell_type": "code",
   "execution_count": 4,
   "metadata": {
    "ExecuteTime": {
     "end_time": "2019-01-08T17:02:32.789555Z",
     "start_time": "2019-01-08T17:02:32.608473Z"
    }
   },
   "outputs": [
    {
     "data": {
      "text/html": [
       "<div>\n",
       "<style>\n",
       "    .dataframe thead tr:only-child th {\n",
       "        text-align: right;\n",
       "    }\n",
       "\n",
       "    .dataframe thead th {\n",
       "        text-align: left;\n",
       "    }\n",
       "\n",
       "    .dataframe tbody tr th {\n",
       "        vertical-align: top;\n",
       "    }\n",
       "</style>\n",
       "<table border=\"1\" class=\"dataframe\">\n",
       "  <thead>\n",
       "    <tr style=\"text-align: right;\">\n",
       "      <th></th>\n",
       "      <th>pert_iname</th>\n",
       "      <th>cell_id</th>\n",
       "      <th>count</th>\n",
       "    </tr>\n",
       "  </thead>\n",
       "  <tbody>\n",
       "    <tr>\n",
       "      <th>0</th>\n",
       "      <td>(+)-3-(1-propyl-piperidin-3-yl)-phenol</td>\n",
       "      <td>FIBRNPC</td>\n",
       "      <td>4</td>\n",
       "    </tr>\n",
       "    <tr>\n",
       "      <th>1</th>\n",
       "      <td>(+)-3-(1-propyl-piperidin-3-yl)-phenol</td>\n",
       "      <td>NEU</td>\n",
       "      <td>7</td>\n",
       "    </tr>\n",
       "    <tr>\n",
       "      <th>2</th>\n",
       "      <td>(+)-3-(1-propyl-piperidin-3-yl)-phenol</td>\n",
       "      <td>NPC</td>\n",
       "      <td>7</td>\n",
       "    </tr>\n",
       "    <tr>\n",
       "      <th>3</th>\n",
       "      <td>(+/-)-7-hydroxy-2-(N,N-di-n-propylamino)tetralin</td>\n",
       "      <td>FIBRNPC</td>\n",
       "      <td>4</td>\n",
       "    </tr>\n",
       "    <tr>\n",
       "      <th>4</th>\n",
       "      <td>(+/-)-7-hydroxy-2-(N,N-di-n-propylamino)tetralin</td>\n",
       "      <td>NEU</td>\n",
       "      <td>7</td>\n",
       "    </tr>\n",
       "  </tbody>\n",
       "</table>\n",
       "</div>"
      ],
      "text/plain": [
       "                                         pert_iname  cell_id  count\n",
       "0            (+)-3-(1-propyl-piperidin-3-yl)-phenol  FIBRNPC      4\n",
       "1            (+)-3-(1-propyl-piperidin-3-yl)-phenol      NEU      7\n",
       "2            (+)-3-(1-propyl-piperidin-3-yl)-phenol      NPC      7\n",
       "3  (+/-)-7-hydroxy-2-(N,N-di-n-propylamino)tetralin  FIBRNPC      4\n",
       "4  (+/-)-7-hydroxy-2-(N,N-di-n-propylamino)tetralin      NEU      7"
      ]
     },
     "execution_count": 4,
     "metadata": {},
     "output_type": "execute_result"
    }
   ],
   "source": [
    "# Get unique pairs of (drug, cell line)\n",
    "drug_cell_line_pairs = metadata.groupby(['pert_iname','cell_id']).size().reset_index().rename(columns={0:'count'})\n",
    "drug_cell_line_pairs.head(5)"
   ]
  },
  {
   "cell_type": "code",
   "execution_count": 5,
   "metadata": {
    "ExecuteTime": {
     "end_time": "2019-01-08T19:52:17.523546Z",
     "start_time": "2019-01-08T17:02:32.793449Z"
    }
   },
   "outputs": [
    {
     "name": "stdout",
     "output_type": "stream",
     "text": [
      "CPU times: user 2h 49min 45s, sys: 664 ms, total: 2h 49min 46s\n",
      "Wall time: 2h 49min 44s\n"
     ]
    }
   ],
   "source": [
    "%%time\n",
    "# Filter by dose concentration and time points\n",
    "num_pairs = drug_cell_line_pairs.shape[0]\n",
    "\n",
    "multiple_dose_conc = pd.DataFrame(columns=['drug', 'cell line', 'time point', 'drug dose', 'count'])\n",
    "\n",
    "for index, row in drug_cell_line_pairs.iterrows():\n",
    "    \n",
    "    # Select samples with specific drug and cell line\n",
    "    drug, cell_line = row['pert_iname'], row['cell_id']\n",
    "    selected_samples = metadata.query('pert_iname == @drug & cell_id == @cell_line', inplace=False)\n",
    "    \n",
    "    # Group samples by time point\n",
    "    timept_counts = selected_samples.groupby(['pert_time']).size().reset_index().rename(columns={0:'count'})\n",
    "    \n",
    "    # For each time point group determine if multiple dose concentrations were measured\n",
    "    for timept in timept_counts['pert_time']:\n",
    "        samples_per_timept = selected_samples.query('pert_time == @timept', inplace=False)   \n",
    "        \n",
    "        # Get counts for the different dose concentrations\n",
    "        dose_conc_counts = samples_per_timept.groupby(['pert_dose']).size().reset_index().rename(columns={0:'count'})\n",
    "\n",
    "        # Keep track of how many samples have multiple dose concentrations\n",
    "        num_dose_conc = dose_conc_counts.shape[0]\n",
    "        \n",
    "        if num_dose_conc > 1:\n",
    "            \n",
    "            for index,row in dose_conc_counts.iterrows():\n",
    "                dose_conc, count = row['pert_dose'], row['count']\n",
    "                multiple_dose_conc = multiple_dose_conc.append({'drug':drug,\n",
    "                                                                'cell line':cell_line,\n",
    "                                                                'time point': timept,\n",
    "                                                                'drug dose':dose_conc,\n",
    "                                                                'count': count},\n",
    "                                                               ignore_index=True)"
   ]
  },
  {
   "cell_type": "code",
   "execution_count": 14,
   "metadata": {
    "ExecuteTime": {
     "end_time": "2019-01-09T14:35:47.618114Z",
     "start_time": "2019-01-09T14:35:47.600513Z"
    }
   },
   "outputs": [
    {
     "data": {
      "text/html": [
       "<div>\n",
       "<style>\n",
       "    .dataframe thead tr:only-child th {\n",
       "        text-align: right;\n",
       "    }\n",
       "\n",
       "    .dataframe thead th {\n",
       "        text-align: left;\n",
       "    }\n",
       "\n",
       "    .dataframe tbody tr th {\n",
       "        vertical-align: top;\n",
       "    }\n",
       "</style>\n",
       "<table border=\"1\" class=\"dataframe\">\n",
       "  <thead>\n",
       "    <tr style=\"text-align: right;\">\n",
       "      <th></th>\n",
       "      <th>drug</th>\n",
       "      <th>cell line</th>\n",
       "      <th>time point</th>\n",
       "      <th>drug dose</th>\n",
       "      <th>count</th>\n",
       "    </tr>\n",
       "  </thead>\n",
       "  <tbody>\n",
       "    <tr>\n",
       "      <th>0</th>\n",
       "      <td>1,2-propylene-glycol</td>\n",
       "      <td>HA1E</td>\n",
       "      <td>24</td>\n",
       "      <td>10.0</td>\n",
       "      <td>6</td>\n",
       "    </tr>\n",
       "    <tr>\n",
       "      <th>1</th>\n",
       "      <td>1,2-propylene-glycol</td>\n",
       "      <td>HA1E</td>\n",
       "      <td>24</td>\n",
       "      <td>19.4</td>\n",
       "      <td>12</td>\n",
       "    </tr>\n",
       "    <tr>\n",
       "      <th>2</th>\n",
       "      <td>1,2-propylene-glycol</td>\n",
       "      <td>HA1E</td>\n",
       "      <td>6</td>\n",
       "      <td>10.0</td>\n",
       "      <td>3</td>\n",
       "    </tr>\n",
       "    <tr>\n",
       "      <th>3</th>\n",
       "      <td>1,2-propylene-glycol</td>\n",
       "      <td>HA1E</td>\n",
       "      <td>6</td>\n",
       "      <td>19.4</td>\n",
       "      <td>6</td>\n",
       "    </tr>\n",
       "    <tr>\n",
       "      <th>4</th>\n",
       "      <td>15-delta-prostaglandin-j2</td>\n",
       "      <td>VCAP</td>\n",
       "      <td>24</td>\n",
       "      <td>1.0</td>\n",
       "      <td>4</td>\n",
       "    </tr>\n",
       "    <tr>\n",
       "      <th>5</th>\n",
       "      <td>15-delta-prostaglandin-j2</td>\n",
       "      <td>VCAP</td>\n",
       "      <td>24</td>\n",
       "      <td>10.0</td>\n",
       "      <td>15</td>\n",
       "    </tr>\n",
       "    <tr>\n",
       "      <th>6</th>\n",
       "      <td>15-delta-prostaglandin-j2</td>\n",
       "      <td>VCAP</td>\n",
       "      <td>24</td>\n",
       "      <td>20.0</td>\n",
       "      <td>4</td>\n",
       "    </tr>\n",
       "    <tr>\n",
       "      <th>7</th>\n",
       "      <td>15-delta-prostaglandin-j2</td>\n",
       "      <td>VCAP</td>\n",
       "      <td>24</td>\n",
       "      <td>5.0</td>\n",
       "      <td>4</td>\n",
       "    </tr>\n",
       "    <tr>\n",
       "      <th>8</th>\n",
       "      <td>15-delta-prostaglandin-j2</td>\n",
       "      <td>VCAP</td>\n",
       "      <td>48</td>\n",
       "      <td>1.0</td>\n",
       "      <td>4</td>\n",
       "    </tr>\n",
       "    <tr>\n",
       "      <th>9</th>\n",
       "      <td>15-delta-prostaglandin-j2</td>\n",
       "      <td>VCAP</td>\n",
       "      <td>48</td>\n",
       "      <td>20.0</td>\n",
       "      <td>4</td>\n",
       "    </tr>\n",
       "  </tbody>\n",
       "</table>\n",
       "</div>"
      ],
      "text/plain": [
       "                        drug cell line time point drug dose count\n",
       "0       1,2-propylene-glycol      HA1E         24      10.0     6\n",
       "1       1,2-propylene-glycol      HA1E         24      19.4    12\n",
       "2       1,2-propylene-glycol      HA1E          6      10.0     3\n",
       "3       1,2-propylene-glycol      HA1E          6      19.4     6\n",
       "4  15-delta-prostaglandin-j2      VCAP         24       1.0     4\n",
       "5  15-delta-prostaglandin-j2      VCAP         24      10.0    15\n",
       "6  15-delta-prostaglandin-j2      VCAP         24      20.0     4\n",
       "7  15-delta-prostaglandin-j2      VCAP         24       5.0     4\n",
       "8  15-delta-prostaglandin-j2      VCAP         48       1.0     4\n",
       "9  15-delta-prostaglandin-j2      VCAP         48      20.0     4"
      ]
     },
     "execution_count": 14,
     "metadata": {},
     "output_type": "execute_result"
    }
   ],
   "source": [
    "multiple_dose_conc.head(10)"
   ]
  },
  {
   "cell_type": "code",
   "execution_count": 21,
   "metadata": {
    "ExecuteTime": {
     "end_time": "2019-01-09T15:06:20.476839Z",
     "start_time": "2019-01-09T15:06:20.467431Z"
    }
   },
   "outputs": [
    {
     "data": {
      "text/plain": [
       "223574"
      ]
     },
     "execution_count": 21,
     "metadata": {},
     "output_type": "execute_result"
    }
   ],
   "source": [
    "# Get the number of samples that have multiple dose concentrations\n",
    "multiple_dose_conc['count'].sum()"
   ]
  },
  {
   "cell_type": "code",
   "execution_count": 23,
   "metadata": {
    "ExecuteTime": {
     "end_time": "2019-01-09T15:08:35.590364Z",
     "start_time": "2019-01-09T15:08:35.571728Z"
    }
   },
   "outputs": [
    {
     "data": {
      "text/plain": [
       "(11739, 4)"
      ]
     },
     "execution_count": 23,
     "metadata": {},
     "output_type": "execute_result"
    }
   ],
   "source": [
    "# Get the number of conditions (same drug, cell line, time point with multiple drug dose concentrations)\n",
    "conditions_count = multiple_dose_conc.groupby(['drug', 'cell line', 'time point']).size().reset_index().rename(columns={0:'number of dose concentrations'})\n",
    "conditions_count.shape"
   ]
  },
  {
   "cell_type": "code",
   "execution_count": 24,
   "metadata": {
    "ExecuteTime": {
     "end_time": "2019-01-09T15:08:43.834119Z",
     "start_time": "2019-01-09T15:08:43.815655Z"
    }
   },
   "outputs": [
    {
     "data": {
      "text/html": [
       "<div>\n",
       "<style>\n",
       "    .dataframe thead tr:only-child th {\n",
       "        text-align: right;\n",
       "    }\n",
       "\n",
       "    .dataframe thead th {\n",
       "        text-align: left;\n",
       "    }\n",
       "\n",
       "    .dataframe tbody tr th {\n",
       "        vertical-align: top;\n",
       "    }\n",
       "</style>\n",
       "<table border=\"1\" class=\"dataframe\">\n",
       "  <thead>\n",
       "    <tr style=\"text-align: right;\">\n",
       "      <th></th>\n",
       "      <th>drug</th>\n",
       "      <th>cell line</th>\n",
       "      <th>time point</th>\n",
       "      <th>number of dose concentrations</th>\n",
       "    </tr>\n",
       "  </thead>\n",
       "  <tbody>\n",
       "    <tr>\n",
       "      <th>0</th>\n",
       "      <td>1,2-propylene-glycol</td>\n",
       "      <td>HA1E</td>\n",
       "      <td>24</td>\n",
       "      <td>2</td>\n",
       "    </tr>\n",
       "    <tr>\n",
       "      <th>1</th>\n",
       "      <td>1,2-propylene-glycol</td>\n",
       "      <td>HA1E</td>\n",
       "      <td>6</td>\n",
       "      <td>2</td>\n",
       "    </tr>\n",
       "    <tr>\n",
       "      <th>2</th>\n",
       "      <td>15-delta-prostaglandin-j2</td>\n",
       "      <td>VCAP</td>\n",
       "      <td>24</td>\n",
       "      <td>4</td>\n",
       "    </tr>\n",
       "    <tr>\n",
       "      <th>3</th>\n",
       "      <td>15-delta-prostaglandin-j2</td>\n",
       "      <td>VCAP</td>\n",
       "      <td>48</td>\n",
       "      <td>3</td>\n",
       "    </tr>\n",
       "    <tr>\n",
       "      <th>4</th>\n",
       "      <td>15-delta-prostaglandin-j2</td>\n",
       "      <td>VCAP</td>\n",
       "      <td>6</td>\n",
       "      <td>4</td>\n",
       "    </tr>\n",
       "    <tr>\n",
       "      <th>5</th>\n",
       "      <td>3-amino-benzamide</td>\n",
       "      <td>A549</td>\n",
       "      <td>24</td>\n",
       "      <td>10</td>\n",
       "    </tr>\n",
       "    <tr>\n",
       "      <th>6</th>\n",
       "      <td>3-amino-benzamide</td>\n",
       "      <td>A549</td>\n",
       "      <td>6</td>\n",
       "      <td>10</td>\n",
       "    </tr>\n",
       "    <tr>\n",
       "      <th>7</th>\n",
       "      <td>3-amino-benzamide</td>\n",
       "      <td>MCF7</td>\n",
       "      <td>24</td>\n",
       "      <td>10</td>\n",
       "    </tr>\n",
       "    <tr>\n",
       "      <th>8</th>\n",
       "      <td>3-amino-benzamide</td>\n",
       "      <td>MCF7</td>\n",
       "      <td>6</td>\n",
       "      <td>10</td>\n",
       "    </tr>\n",
       "    <tr>\n",
       "      <th>9</th>\n",
       "      <td>7-nitroindazole</td>\n",
       "      <td>A375</td>\n",
       "      <td>6</td>\n",
       "      <td>2</td>\n",
       "    </tr>\n",
       "    <tr>\n",
       "      <th>10</th>\n",
       "      <td>7-nitroindazole</td>\n",
       "      <td>A549</td>\n",
       "      <td>24</td>\n",
       "      <td>2</td>\n",
       "    </tr>\n",
       "    <tr>\n",
       "      <th>11</th>\n",
       "      <td>7-nitroindazole</td>\n",
       "      <td>A549</td>\n",
       "      <td>6</td>\n",
       "      <td>2</td>\n",
       "    </tr>\n",
       "    <tr>\n",
       "      <th>12</th>\n",
       "      <td>7-nitroindazole</td>\n",
       "      <td>HA1E</td>\n",
       "      <td>6</td>\n",
       "      <td>2</td>\n",
       "    </tr>\n",
       "    <tr>\n",
       "      <th>13</th>\n",
       "      <td>7-nitroindazole</td>\n",
       "      <td>HCC515</td>\n",
       "      <td>6</td>\n",
       "      <td>2</td>\n",
       "    </tr>\n",
       "    <tr>\n",
       "      <th>14</th>\n",
       "      <td>7-nitroindazole</td>\n",
       "      <td>HEPG2</td>\n",
       "      <td>6</td>\n",
       "      <td>2</td>\n",
       "    </tr>\n",
       "    <tr>\n",
       "      <th>15</th>\n",
       "      <td>7-nitroindazole</td>\n",
       "      <td>HT29</td>\n",
       "      <td>6</td>\n",
       "      <td>2</td>\n",
       "    </tr>\n",
       "    <tr>\n",
       "      <th>16</th>\n",
       "      <td>7-nitroindazole</td>\n",
       "      <td>MCF7</td>\n",
       "      <td>24</td>\n",
       "      <td>2</td>\n",
       "    </tr>\n",
       "    <tr>\n",
       "      <th>17</th>\n",
       "      <td>7-nitroindazole</td>\n",
       "      <td>MCF7</td>\n",
       "      <td>6</td>\n",
       "      <td>2</td>\n",
       "    </tr>\n",
       "    <tr>\n",
       "      <th>18</th>\n",
       "      <td>7-nitroindazole</td>\n",
       "      <td>PC3</td>\n",
       "      <td>24</td>\n",
       "      <td>2</td>\n",
       "    </tr>\n",
       "    <tr>\n",
       "      <th>19</th>\n",
       "      <td>7-nitroindazole</td>\n",
       "      <td>PC3</td>\n",
       "      <td>6</td>\n",
       "      <td>2</td>\n",
       "    </tr>\n",
       "  </tbody>\n",
       "</table>\n",
       "</div>"
      ],
      "text/plain": [
       "                         drug cell line time point  \\\n",
       "0        1,2-propylene-glycol      HA1E         24   \n",
       "1        1,2-propylene-glycol      HA1E          6   \n",
       "2   15-delta-prostaglandin-j2      VCAP         24   \n",
       "3   15-delta-prostaglandin-j2      VCAP         48   \n",
       "4   15-delta-prostaglandin-j2      VCAP          6   \n",
       "5           3-amino-benzamide      A549         24   \n",
       "6           3-amino-benzamide      A549          6   \n",
       "7           3-amino-benzamide      MCF7         24   \n",
       "8           3-amino-benzamide      MCF7          6   \n",
       "9             7-nitroindazole      A375          6   \n",
       "10            7-nitroindazole      A549         24   \n",
       "11            7-nitroindazole      A549          6   \n",
       "12            7-nitroindazole      HA1E          6   \n",
       "13            7-nitroindazole    HCC515          6   \n",
       "14            7-nitroindazole     HEPG2          6   \n",
       "15            7-nitroindazole      HT29          6   \n",
       "16            7-nitroindazole      MCF7         24   \n",
       "17            7-nitroindazole      MCF7          6   \n",
       "18            7-nitroindazole       PC3         24   \n",
       "19            7-nitroindazole       PC3          6   \n",
       "\n",
       "    number of dose concentrations  \n",
       "0                               2  \n",
       "1                               2  \n",
       "2                               4  \n",
       "3                               3  \n",
       "4                               4  \n",
       "5                              10  \n",
       "6                              10  \n",
       "7                              10  \n",
       "8                              10  \n",
       "9                               2  \n",
       "10                              2  \n",
       "11                              2  \n",
       "12                              2  \n",
       "13                              2  \n",
       "14                              2  \n",
       "15                              2  \n",
       "16                              2  \n",
       "17                              2  \n",
       "18                              2  \n",
       "19                              2  "
      ]
     },
     "execution_count": 24,
     "metadata": {},
     "output_type": "execute_result"
    }
   ],
   "source": [
    "conditions_count.head(20)"
   ]
  },
  {
   "cell_type": "code",
   "execution_count": 25,
   "metadata": {
    "ExecuteTime": {
     "end_time": "2019-01-09T15:09:18.420657Z",
     "start_time": "2019-01-09T15:09:18.412925Z"
    }
   },
   "outputs": [
    {
     "data": {
      "text/plain": [
       "44"
      ]
     },
     "execution_count": 25,
     "metadata": {},
     "output_type": "execute_result"
    }
   ],
   "source": [
    "conditions_count['number of dose concentrations'].max()"
   ]
  },
  {
   "cell_type": "code",
   "execution_count": 34,
   "metadata": {
    "ExecuteTime": {
     "end_time": "2019-01-09T15:25:04.895015Z",
     "start_time": "2019-01-09T15:25:04.881820Z"
    }
   },
   "outputs": [
    {
     "data": {
      "text/html": [
       "<div>\n",
       "<style>\n",
       "    .dataframe thead tr:only-child th {\n",
       "        text-align: right;\n",
       "    }\n",
       "\n",
       "    .dataframe thead th {\n",
       "        text-align: left;\n",
       "    }\n",
       "\n",
       "    .dataframe tbody tr th {\n",
       "        vertical-align: top;\n",
       "    }\n",
       "</style>\n",
       "<table border=\"1\" class=\"dataframe\">\n",
       "  <thead>\n",
       "    <tr style=\"text-align: right;\">\n",
       "      <th></th>\n",
       "      <th>drug</th>\n",
       "      <th>cell line</th>\n",
       "      <th>time point</th>\n",
       "      <th>number of dose concentrations</th>\n",
       "    </tr>\n",
       "  </thead>\n",
       "  <tbody>\n",
       "    <tr>\n",
       "      <th>11655</th>\n",
       "      <td>vorinostat</td>\n",
       "      <td>MCF7</td>\n",
       "      <td>24</td>\n",
       "      <td>44</td>\n",
       "    </tr>\n",
       "    <tr>\n",
       "      <th>11668</th>\n",
       "      <td>vorinostat</td>\n",
       "      <td>PC3</td>\n",
       "      <td>24</td>\n",
       "      <td>44</td>\n",
       "    </tr>\n",
       "  </tbody>\n",
       "</table>\n",
       "</div>"
      ],
      "text/plain": [
       "             drug cell line time point  number of dose concentrations\n",
       "11655  vorinostat      MCF7         24                             44\n",
       "11668  vorinostat       PC3         24                             44"
      ]
     },
     "execution_count": 34,
     "metadata": {},
     "output_type": "execute_result"
    }
   ],
   "source": [
    "conditions_count.loc[conditions_count['number of dose concentrations'] == 44]"
   ]
  },
  {
   "cell_type": "code",
   "execution_count": 49,
   "metadata": {
    "ExecuteTime": {
     "end_time": "2019-01-09T15:55:43.204985Z",
     "start_time": "2019-01-09T15:55:43.185710Z"
    }
   },
   "outputs": [
    {
     "data": {
      "text/plain": [
       "527"
      ]
     },
     "execution_count": 49,
     "metadata": {},
     "output_type": "execute_result"
    }
   ],
   "source": [
    "# Samples from first condition with 44 doses\n",
    "drug_name = 'vorinostat'\n",
    "cell_line_name = 'MCF7'\n",
    "time_pt = '24'\n",
    "multiple_dose_conc.loc[(multiple_dose_conc['drug'] == drug_name) &\n",
    "                       (multiple_dose_conc['cell line'] == cell_line_name) &\n",
    "                       (multiple_dose_conc['time point'] == time_pt)]['count'].sum()"
   ]
  },
  {
   "cell_type": "code",
   "execution_count": 50,
   "metadata": {
    "ExecuteTime": {
     "end_time": "2019-01-09T15:56:05.514255Z",
     "start_time": "2019-01-09T15:56:05.493193Z"
    }
   },
   "outputs": [
    {
     "data": {
      "text/plain": [
       "403"
      ]
     },
     "execution_count": 50,
     "metadata": {},
     "output_type": "execute_result"
    }
   ],
   "source": [
    "drug_name = 'vorinostat'\n",
    "cell_line_name = 'PC3'\n",
    "time_pt = '24'\n",
    "multiple_dose_conc.loc[(multiple_dose_conc['drug'] == drug_name) &\n",
    "                       (multiple_dose_conc['cell line'] == cell_line_name) &\n",
    "                       (multiple_dose_conc['time point'] == time_pt)]['count'].sum()"
   ]
  },
  {
   "cell_type": "code",
   "execution_count": 20,
   "metadata": {
    "ExecuteTime": {
     "end_time": "2019-01-09T15:05:44.396580Z",
     "start_time": "2019-01-09T15:05:44.337495Z"
    }
   },
   "outputs": [],
   "source": [
    "# Output\n",
    "dose_file = os.path.join(os.path.dirname(os.getcwd()), \"metadata\",\"multiple_dose_conc_counts.txt\")\n",
    "conditions_file = os.path.join(os.path.dirname(os.getcwd()), \"metadata\",\"conditions_counts.txt\")\n",
    "\n",
    "multiple_dose_conc.to_csv(dose_file, sep='\\t')\n",
    "conditions_count.to_csv(conditions_file, sep='\\t')"
   ]
  }
 ],
 "metadata": {
  "kernelspec": {
   "display_name": "Python [conda env:my_cmapPy_env]",
   "language": "python",
   "name": "conda-env-my_cmapPy_env-py"
  },
  "language_info": {
   "codemirror_mode": {
    "name": "ipython",
    "version": 2
   },
   "file_extension": ".py",
   "mimetype": "text/x-python",
   "name": "python",
   "nbconvert_exporter": "python",
   "pygments_lexer": "ipython2",
   "version": "2.7.11"
  }
 },
 "nbformat": 4,
 "nbformat_minor": 2
}
